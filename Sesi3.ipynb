{
 "cells": [
  {
   "cell_type": "markdown",
   "metadata": {},
   "source": [
    "# Function, Basic Module, and Package\n",
    "\n",
    "- function: blok kode yang terorganisir & dapat digunakan kembali, yg digunakan utk melakukan satu tindakan terkait\n",
    "- function blocks dimulai engan keyword def diikuti nama fungsi dan tanda kurung (()). argumen/parameter ditempatkan di dalam kurung.\n",
    "\n",
    "## A. Function"
   ]
  },
  {
   "cell_type": "code",
   "execution_count": 1,
   "metadata": {},
   "outputs": [
    {
     "name": "stdout",
     "output_type": "stream",
     "text": [
      "8\n"
     ]
    }
   ],
   "source": [
    "def my_function(p,l):\n",
    "    \"function menghitung luas\"\n",
    "    print(p*l)\n",
    "    \n",
    "my_function(2,4)"
   ]
  },
  {
   "cell_type": "code",
   "execution_count": 3,
   "metadata": {},
   "outputs": [
    {
     "name": "stdout",
     "output_type": "stream",
     "text": [
      "helmi\n"
     ]
    }
   ],
   "source": [
    "def printme(str):\n",
    "    \"this prints a passed string into this function\"\n",
    "    print(str)\n",
    "    return\n",
    "\n",
    "printme('helmi')"
   ]
  },
  {
   "cell_type": "markdown",
   "metadata": {},
   "source": [
    "#### Latihan Membuat function pengecekan bilangan ganjil genap"
   ]
  },
  {
   "cell_type": "code",
   "execution_count": 1,
   "metadata": {},
   "outputs": [
    {
     "name": "stdout",
     "output_type": "stream",
     "text": [
      "bilangan ganjil\n"
     ]
    },
    {
     "data": {
      "text/plain": [
       "3"
      ]
     },
     "execution_count": 1,
     "metadata": {},
     "output_type": "execute_result"
    }
   ],
   "source": [
    "def cek(bil):\n",
    "    if bil % 2 == 0:\n",
    "        print(\"bilangan genap\")\n",
    "    else:\n",
    "        print(\"bilangan ganjil\")\n",
    "    return bil\n",
    "\n",
    "cek(3)"
   ]
  },
  {
   "cell_type": "markdown",
   "metadata": {},
   "source": [
    "### 1. calling a function"
   ]
  },
  {
   "cell_type": "code",
   "execution_count": 4,
   "metadata": {},
   "outputs": [
    {
     "name": "stdout",
     "output_type": "stream",
     "text": [
      "i'm first call to user defined function!\n",
      "again second cal to the same function\n"
     ]
    }
   ],
   "source": [
    "#function definition is here\n",
    "def printme(str):\n",
    "    \"this prints a passed string into this function\"\n",
    "    print(str)\n",
    "    return;\n",
    "\n",
    "#now you can callprintme function\n",
    "printme(\"i'm first call to user defined function!\")\n",
    "printme(\"again second cal to the same function\")"
   ]
  },
  {
   "cell_type": "markdown",
   "metadata": {},
   "source": [
    "### 2. pass by reference vs value\n",
    "\n",
    "- pass by reference : jika mengubah apa yg dirujuk oleh parameter dalam suatu fungsi, perubahan juga kembali fungsi pemanggil"
   ]
  },
  {
   "cell_type": "code",
   "execution_count": 5,
   "metadata": {},
   "outputs": [
    {
     "name": "stdout",
     "output_type": "stream",
     "text": [
      "values inside the function [10, 20, 30, [1, 2, 3, 4]]\n",
      "values outside the function:  [10, 20, 30, [1, 2, 3, 4]]\n"
     ]
    }
   ],
   "source": [
    "#function definition is here\n",
    "def changme(mylist):\n",
    "    \"this changes a passed list into this function\"\n",
    "    mylist.append([1,2,3,4]);\n",
    "    print(\"values inside the function\", mylist)\n",
    "    return\n",
    "\n",
    "#now you can call changme function\n",
    "mylist = [10,20,30];\n",
    "changme(mylist);\n",
    "print(\"values outside the function: \", mylist)"
   ]
  },
  {
   "cell_type": "code",
   "execution_count": 6,
   "metadata": {},
   "outputs": [
    {
     "name": "stdout",
     "output_type": "stream",
     "text": [
      "values inside thefunction:  [1, 2, 3, 4]\n",
      "values outside the function:  [10, 20, 30]\n"
     ]
    }
   ],
   "source": [
    "# contoh reference di overwrite di dalam fungsi yg dipanggil\n",
    "\n",
    "#function definition is here\n",
    "def changme(mylist):\n",
    "    \"this changes a passed list into this function\"\n",
    "    mylist = [1,2,3,4]; #this would assig new reference in mylist\n",
    "    print(\"values inside thefunction: \", mylist)\n",
    "    return\n",
    "\n",
    "#now you can call changme function\n",
    "mylist = [10,20,30];\n",
    "changme(mylist);\n",
    "print(\"values outside the function: \", mylist)"
   ]
  },
  {
   "cell_type": "markdown",
   "metadata": {},
   "source": [
    "### 3. Function arguments\n",
    "#### a. required arguments (argumen yg diteruskan ke suatu fungsi dalam urutan posisi yg benar)"
   ]
  },
  {
   "cell_type": "code",
   "execution_count": 8,
   "metadata": {},
   "outputs": [
    {
     "ename": "TypeError",
     "evalue": "printme() missing 1 required positional argument: 'str'",
     "output_type": "error",
     "traceback": [
      "\u001b[1;31m---------------------------------------------------------------------------\u001b[0m",
      "\u001b[1;31mTypeError\u001b[0m                                 Traceback (most recent call last)",
      "\u001b[1;32m<ipython-input-8-fe518cf5b45a>\u001b[0m in \u001b[0;36m<module>\u001b[1;34m\u001b[0m\n\u001b[0;32m      8\u001b[0m \u001b[1;33m\u001b[0m\u001b[0m\n\u001b[0;32m      9\u001b[0m \u001b[1;31m#now you can callprintme function\u001b[0m\u001b[1;33m\u001b[0m\u001b[1;33m\u001b[0m\u001b[1;33m\u001b[0m\u001b[0m\n\u001b[1;32m---> 10\u001b[1;33m \u001b[0mprintme\u001b[0m\u001b[1;33m(\u001b[0m\u001b[1;33m)\u001b[0m\u001b[1;33m\u001b[0m\u001b[1;33m\u001b[0m\u001b[0m\n\u001b[0m",
      "\u001b[1;31mTypeError\u001b[0m: printme() missing 1 required positional argument: 'str'"
     ]
    }
   ],
   "source": [
    "#apabila tidak memberikan suatu argumen pada function, maka akan error\n",
    "\n",
    "#function definition is here\n",
    "def printme(str):\n",
    "    \"this prints a passed string into this function\"\n",
    "    print(str)\n",
    "    return;\n",
    "\n",
    "#now you can callprintme function\n",
    "printme()"
   ]
  },
  {
   "cell_type": "markdown",
   "metadata": {},
   "source": [
    "#### b. keyword arguments "
   ]
  },
  {
   "cell_type": "code",
   "execution_count": 9,
   "metadata": {},
   "outputs": [
    {
     "name": "stdout",
     "output_type": "stream",
     "text": [
      "Hacktiv8\n"
     ]
    }
   ],
   "source": [
    "#panggilan kata kunci ke function\n",
    "\n",
    "#function definition is here\n",
    "def printme(str):\n",
    "    \"this prints a passed string into this function\"\n",
    "    print(str)\n",
    "    return;\n",
    "\n",
    "#now you can callprintme function\n",
    "printme(str=\"Hacktiv8\")"
   ]
  },
  {
   "cell_type": "code",
   "execution_count": 10,
   "metadata": {},
   "outputs": [
    {
     "name": "stdout",
     "output_type": "stream",
     "text": [
      "Name:  helmi\n",
      "Age:  4\n"
     ]
    }
   ],
   "source": [
    "#urutan parameter tdk menjadi masalah\n",
    "\n",
    "#function definition is here\n",
    "def printinfo(name,age):\n",
    "    \"this prints a passed string into this function\"\n",
    "    print(\"Name: \", name)\n",
    "    print(\"Age: \", age)\n",
    "    return;\n",
    "\n",
    "#now you can callprintme function\n",
    "printinfo(age=4, name=\"helmi\")"
   ]
  },
  {
   "cell_type": "markdown",
   "metadata": {},
   "source": [
    "#### c. default arguments (argumen yg mengasumsikan nilai default jika nilai tidak diseediakan dalam pemanggilan funsi utk argumen tsb)"
   ]
  },
  {
   "cell_type": "code",
   "execution_count": 18,
   "metadata": {},
   "outputs": [
    {
     "name": "stdout",
     "output_type": "stream",
     "text": [
      "Name:  helmi\n",
      "Age:  4\n",
      "Name:  helmi\n",
      "Age:  21\n"
     ]
    }
   ],
   "source": [
    "#function definition is here\n",
    "def printinfo(name,age=21):\n",
    "    \"this prints a passed string into this function\"\n",
    "    print(\"Name: \", name)\n",
    "    print(\"Age: \", age)\n",
    "    return;\n",
    "\n",
    "#now you can callprintme function\n",
    "printinfo(age=4, name=\"helmi\")\n",
    "printinfo(name=\"helmi\")"
   ]
  },
  {
   "cell_type": "markdown",
   "metadata": {},
   "source": [
    "#### d. variable-length arguments"
   ]
  },
  {
   "cell_type": "code",
   "execution_count": 19,
   "metadata": {},
   "outputs": [
    {
     "name": "stdout",
     "output_type": "stream",
     "text": [
      "output is: \n",
      "10\n",
      "output is: \n",
      "2\n",
      "3\n",
      "4\n",
      "5\n",
      "a\n"
     ]
    }
   ],
   "source": [
    "#function definition is here\n",
    "def printinfo(arg1, *vartuple):\n",
    "    \"this print a variable passed arguments\"\n",
    "    print(\"output is: \")\n",
    "    print(arg1)\n",
    "    for var in vartuple:\n",
    "        print(var)\n",
    "    return;\n",
    "\n",
    "#now you can callprintme function\n",
    "printinfo(10)\n",
    "printinfo(2,3,4,5,\"a\")"
   ]
  },
  {
   "cell_type": "markdown",
   "metadata": {},
   "source": [
    "### 4. The Anonymous Functions\n",
    "\n",
    "##### disebut anonymus karena tdk dideklarasikan dgn menggunakan keyword def tetapi dgn keyword lambda\n",
    "- lambda dpt mengambil beberapa argumen tp hanya mengembalikan 1 nilai dlm bentuk expression. lambda tdk boleh berisi commands / multiple expressions\n",
    "- anonymous funct tdk bsa dipanggil langsung melalui print krn memerlukan expression\n",
    "- lambda funct memiliki namespace local sendiri dan tidak dapat mengakses variabel selain yg ada di daftar parameternya & yg ada di namespace global"
   ]
  },
  {
   "cell_type": "code",
   "execution_count": 2,
   "metadata": {},
   "outputs": [
    {
     "name": "stdout",
     "output_type": "stream",
     "text": [
      "Value of total:  30\n",
      "Value of total:  40\n",
      "Value of total:  None\n",
      "Value of total:  None\n"
     ]
    }
   ],
   "source": [
    "#Function definition is here\n",
    "sum = lambda arg1, arg2: arg1 + arg2;\n",
    "print(\"Value of total: \", sum(10,20))\n",
    "print(\"Value of total: \", sum(20,20))\n",
    "\n",
    "def sum(arg1, arg2):\n",
    "    arg1 + arg2\n",
    "    \n",
    "#now you can call sum as a function\n",
    "print(\"Value of total: \", sum(10,20))\n",
    "print(\"Value of total: \", sum(20,20))"
   ]
  },
  {
   "cell_type": "markdown",
   "metadata": {},
   "source": [
    "### 5. return statement"
   ]
  },
  {
   "cell_type": "code",
   "execution_count": 3,
   "metadata": {},
   "outputs": [
    {
     "name": "stdout",
     "output_type": "stream",
     "text": [
      "inside the funct:  30\n",
      "outside the funct:  40\n"
     ]
    }
   ],
   "source": [
    "#Function definition is here\n",
    "def sum(arg1, arg2):\n",
    "    #add both the parameters and return them\n",
    "    total = arg1+arg2\n",
    "    total2 = total + arg1\n",
    "    print(\"inside the funct: \", total)\n",
    "    return total2\n",
    "\n",
    "#now you can call sum as a function\n",
    "total = sum(10,20)\n",
    "print(\"outside the funct: \", total)"
   ]
  },
  {
   "cell_type": "markdown",
   "metadata": {},
   "source": [
    "## B. Scope of variables\n",
    "\n",
    "terdiri dari global dan local variables "
   ]
  },
  {
   "cell_type": "code",
   "execution_count": 12,
   "metadata": {},
   "outputs": [
    {
     "name": "stdout",
     "output_type": "stream",
     "text": [
      "==========\n"
     ]
    },
    {
     "data": {
      "text/plain": [
       "4"
      ]
     },
     "execution_count": 12,
     "metadata": {},
     "output_type": "execute_result"
    }
   ],
   "source": [
    "jumlahKucing = 2\n",
    "\n",
    "def jumlahHewan():\n",
    "    jumlahAnjing=3\n",
    "    return jumlahKucing+jumlahAnjing\n",
    "\n",
    "def jumlahKelinci():\n",
    "    return jumlahKucing+jumlahKucing\n",
    "\n",
    "jumlahHewan()\n",
    "print('='*10)\n",
    "jumlahKelinci()"
   ]
  },
  {
   "cell_type": "markdown",
   "metadata": {},
   "source": [
    "## C. Python Modules & Package\n",
    "\n",
    "### C.1 Python Modules\n",
    "modul dapat diakses dgn import statement."
   ]
  },
  {
   "cell_type": "code",
   "execution_count": 13,
   "metadata": {},
   "outputs": [],
   "source": [
    "#membuat file mod.py\n",
    "s = \"Hacktiv8-PTP Python for Data Science\"\n",
    "a = [100,200,300]\n",
    "\n",
    "def foo(arg):\n",
    "    print(f'arg = {arg}')\n",
    "    \n",
    "class Foo:\n",
    "    pass"
   ]
  },
  {
   "cell_type": "code",
   "execution_count": null,
   "metadata": {},
   "outputs": [],
   "source": [
    "#objek  dpat diakses dgn mengimpor modul dgn cara\n",
    "\n",
    "# >>> import mod\n",
    "# >>> print(mod.s)\n",
    "# Hacktiv8-PTP Python For Data Science\n",
    "# >>> mod.a\n",
    "# [100,200,300]\n",
    "# >>> mod.foo(['quux','corge','grault'])\n",
    "# arg = ['quux', 'corge', 'grault']\n",
    "# >>> x = mod.Foo()\n",
    "# >>> x\n",
    "# <mod.Foo object at o0x03c181F0>"
   ]
  },
  {
   "cell_type": "markdown",
   "metadata": {},
   "source": [
    "### c.2 module search path\n",
    "### c.3 import statement\n",
    "bentuk import : import <module_name>. untuk mengakses nama objek harus diawali dgn <module_name> dan diikuti dgn titik setelahnya. contoh : mod.s.\n",
    "\n",
    "bentuk alternatif dari statement memungkinkan objek individu dari modul utk diimpor langsung ke tabel dgn:\n",
    "from <module_name> import <name(s)>\n",
    "\n",
    "memungkinkan juga utk mengimpor semua scr langsung dr modul dlm 1 command dgn:\n",
    "from <module_name> import *\n",
    "\n",
    "### c.4 dir() function\n",
    "berfungsi mengembalikan daftar nama yg ditentukan dlm namespace. tanpa argumen, dir() menghasilkan daftar nama yg diurutkan menurut abjad dlm tabel simbol lokal saat ini\n",
    "\n",
    "### c.5 executing module as script\n",
    "ketika dijalankan tidak melakukan apa\" dan tdk menghasilkan output apapun\n",
    "\n",
    "### c.6 reloading a module\n",
    "jika membuat pperubahan pd modul dan perlu memuatnya kembali, perlu memulai ulang interpreter / menggunakan fungsi yg disebut reload() dari modul importlib\n",
    "\n",
    "## D. Python Package\n",
    "package membantu menghindari tabrakan antara nama modul. untuk menggunakan sama dgn menuliskan nama package di awal dan dikasih tanda titik. atau bisa juga dgn menggunkan penyataan ini:\n",
    "from <package_name> import <module_name>[, <module_name> ...]\n",
    "from <package_name> import <module_name> as <alt_name>\n",
    "\n",
    "scr teknis kita juga dpt mengimpor package.\n",
    "\n",
    "### d.1 PIP\n",
    "PIP adalah package manager utk python artinya alat yg memungkinkan utk menginstall dan mengelola library dan dependensi tambahan yg tdk didistribusikan sebagai bagian dr library standar. \n",
    "\n",
    "#### d.1.1 Basic package installation\n",
    "perintah utk memperbarui pip:\n",
    "python -m pip install --upgrade pip\n",
    "\n",
    "melihat packages yg diinstall di environment:\n",
    "pip lis\n",
    "\n",
    "melihat metadata package:\n",
    "pip show requests\n",
    "\n",
    "#### d.1.2 using requirement files\n",
    "\n",
    "| pip freeze > requirements.txt\n",
    "\n",
    "| cat requirements.txt\n",
    "\n",
    "perintah freeze membuang smemua paket dan versinya ke output standar, jdi kita dpat mengarahkan output kw file yg dpt digunakan utk menginstal persyaratan yg tepat ke sistem lain.\n",
    "\n",
    "saat ingin mereplikasi environment di sistem lain, kita dpat menjalankan pip install dgn menentukan requirements file menggunakan -r:\n",
    "pip install -r requirements.txt\n",
    "\n",
    "#### d.1.3 finding packages to use\n",
    "pip help search\n",
    "\n",
    "akses menggunakan OAuth2:\n",
    "pip search request oauth\n",
    "\n",
    "#### d.1.4 uninstalling packages\n",
    "pastikan menjalankan perintah show utk package tsb:\n",
    "pip show request\n",
    "\n",
    "setelah memahami urutan ketergantungan paket yg ingin di uninstal, kita dpat menghapus dgn:\n",
    "pip uninstall certifi\n",
    "\n",
    "konfirmasi dgn meneruskan -y utk menyembunyikandaftar file dan konfirmasi"
   ]
  },
  {
   "cell_type": "markdown",
   "metadata": {},
   "source": [
    "## Latihan membuat CRUD"
   ]
  },
  {
   "cell_type": "code",
   "execution_count": 2,
   "metadata": {},
   "outputs": [],
   "source": [
    "# Variabel global untuk menyimpan data Buku\n",
    "buku = []\n",
    "\n",
    "# fungsi untuk menampilkan semua data\n",
    "def show_data():\n",
    "    if len(buku) <= 0:\n",
    "        print (\"BELUM ADA DATA\")\n",
    "    else:\n",
    "        for indeks in range(len(buku)):\n",
    "            print (\"[%d] %s\" % (indeks, buku[indeks]))\n",
    "\n",
    "\n",
    "# fungsi untuk menambah data\n",
    "def insert_data():\n",
    "    buku_baru = input(\"Judul Buku: \")\n",
    "    buku.append(buku_baru)\n",
    "\n",
    "# fungsi untuk edit data\n",
    "def edit_data():\n",
    "    show_data()\n",
    "    indeks = input(\"Inputkan ID buku: \")\n",
    "    if(int(indeks) > len(buku)):\n",
    "        print(\"ID salah\")\n",
    "    else:\n",
    "        judul_baru = input(\"Judul baru: \")\n",
    "        buku[int(indeks)] = judul_baru\n",
    "\n",
    "# fungsi untuk menhapus data\n",
    "def delete_data():\n",
    "    show_data()\n",
    "    indeks = input(\"Inputkan ID buku: \")\n",
    "    if(int(indeks) > len(buku)):\n",
    "        print (\"ID salah\")\n",
    "    else:\n",
    "        buku.remove(buku[int(indeks)])\n",
    "\n",
    "# fungsi untuk menampilkan menu\n",
    "def show_menu():\n",
    "    print (\"\\n\")\n",
    "    print (\"----------- MENU ----------\")\n",
    "    print (\"[1] Show Data\")\n",
    "    print (\"[2] Insert Data\")\n",
    "    print (\"[3] Edit Data\")\n",
    "    print (\"[4] Delete Data\")\n",
    "    print (\"[5] Exit\")\n",
    "    \n",
    "    menu =input(\"PILIH MENU> \")\n",
    "    print (\"\\n\")\n",
    "\n",
    "    if int(menu) == 1:\n",
    "        show_data()\n",
    "    elif int(menu) == 2:\n",
    "        insert_data()\n",
    "    elif int(menu) == 3:\n",
    "        edit_data()\n",
    "    elif int(menu) == 4:\n",
    "        delete_data()\n",
    "    elif int(menu) == 5:\n",
    "        exit()\n",
    "    else:\n",
    "        print (\"Salah pilih!\")"
   ]
  },
  {
   "cell_type": "code",
   "execution_count": 3,
   "metadata": {},
   "outputs": [
    {
     "name": "stdout",
     "output_type": "stream",
     "text": [
      "\n",
      "\n",
      "----------- MENU ----------\n",
      "[1] Show Data\n",
      "[2] Insert Data\n",
      "[3] Edit Data\n",
      "[4] Delete Data\n",
      "[5] Exit\n",
      "PILIH MENU> 1\n",
      "\n",
      "\n",
      "BELUM ADA DATA\n"
     ]
    }
   ],
   "source": [
    "show_menu()"
   ]
  },
  {
   "cell_type": "code",
   "execution_count": 4,
   "metadata": {},
   "outputs": [],
   "source": [
    "def formatrupiah(uang):\n",
    "    y = str(uang)\n",
    "    if len(y) <= 3 :\n",
    "        return 'Rp ' + y     ## Rp. 100\n",
    "    else :\n",
    "        p = y[-3:]\n",
    "        q = y[:-3]\n",
    "        return   formatrupiah(q) + '.' + p\n",
    "        print ('Rp ' +  formatrupiah(q) + '.' + p)"
   ]
  },
  {
   "cell_type": "code",
   "execution_count": 5,
   "metadata": {},
   "outputs": [
    {
     "data": {
      "text/plain": [
       "'Rp 100.000'"
      ]
     },
     "execution_count": 5,
     "metadata": {},
     "output_type": "execute_result"
    }
   ],
   "source": [
    "formatrupiah(100000)"
   ]
  },
  {
   "cell_type": "markdown",
   "metadata": {},
   "source": [
    "## Contoh Studi Kasus\n",
    "contoh :\n",
    "pada saat di input 1000 \n",
    "maka akan mencetak :  **\"seribu\"** \n",
    "\n",
    "Input angka ? 100000 \n",
    "maka akan mencetak :  **\"seratus ribu\"** \n",
    "\n",
    "    Gunakan Function Recursion \n",
    "    Gunakan Operator Pembagi untuk mendapatkan bilang pertama ( Contoh 87 :  87 / 10 = 8 ) \n",
    "    Dan gunakan Operator Modulus untuk mendapatkan bilang akhir  ( Contoh  87  :  87 % 10 = 7 )"
   ]
  },
  {
   "cell_type": "code",
   "execution_count": 6,
   "metadata": {},
   "outputs": [
    {
     "name": "stdout",
     "output_type": "stream",
     "text": [
      "Terbilang :  Seratus Dua Puluh Tiga Ribu Empat Ratus Lima Puluh Enam\n"
     ]
    }
   ],
   "source": [
    "def Terbilang(bil):\n",
    "    angka = [\"\",\"Satu\",\"Dua\",\"Tiga\",\"Empat\",\"Lima\",\"Enam\",\n",
    "             \"Tujuh\",\"Delapan\",\"Sembilan\",\"Sepuluh\",\"Sebelas\"]\n",
    "    Hasil = \" \"\n",
    "    n = int(bil)\n",
    "    if n>= 0 and n <= 11:\n",
    "        Hasil = angka[n]\n",
    "    elif n <20:\n",
    "        Hasil = Terbilang (n-10) + \" Belas \"\n",
    "    elif n <100:\n",
    "        Hasil = Terbilang (n/10) + \" Puluh \" + Terbilang (n%10)\n",
    "    elif n <200:\n",
    "        Hasil = \" Seratus \" + Terbilang (n-100)\n",
    "    elif n <1000:\n",
    "        Hasil = Terbilang (n/100) + \" Ratus \" + Terbilang (n%100)\n",
    "    elif n <2000:\n",
    "        Hasil = \" Seribu \" + Terbilang (n-1000)\n",
    "    elif n <1000000:\n",
    "        Hasil = Terbilang (n/1000) + \" Ribu \" + Terbilang (n%1000)\n",
    "    elif n <1000000000:\n",
    "        Hasil = Terbilang (n/1000000) + \" Juta \" + Terbilang (n%1000000)\n",
    "    elif n <1000000000000:\n",
    "        Hasil = Terbilang (n/1000000000) + \" Milyar \" + Terbilang (n%1000000000)\n",
    "    elif n <1000000000000000:\n",
    "        Hasil = Terbilang (n/1000000000000) + \" Triliyun \" + Terbilang (n%1000000000000)\n",
    "    else:\n",
    "        Hasil = \"Angka Hanya sama Triliyun\"\n",
    "\n",
    "    return Hasil\n",
    "\n",
    "\n",
    "\n",
    "huruf = Terbilang(\"123456\")\n",
    "print(f\"Terbilang : {huruf}\")"
   ]
  },
  {
   "cell_type": "code",
   "execution_count": 7,
   "metadata": {},
   "outputs": [
    {
     "name": "stdout",
     "output_type": "stream",
     "text": [
      "Terbilang : Satu Juta \n"
     ]
    }
   ],
   "source": [
    "huruf = Terbilang(\"1000000\")\n",
    "print(f\"Terbilang : {huruf}\")"
   ]
  },
  {
   "cell_type": "code",
   "execution_count": null,
   "metadata": {},
   "outputs": [],
   "source": []
  }
 ],
 "metadata": {
  "kernelspec": {
   "display_name": "Python 3",
   "language": "python",
   "name": "python3"
  },
  "language_info": {
   "codemirror_mode": {
    "name": "ipython",
    "version": 3
   },
   "file_extension": ".py",
   "mimetype": "text/x-python",
   "name": "python",
   "nbconvert_exporter": "python",
   "pygments_lexer": "ipython3",
   "version": "3.7.6"
  }
 },
 "nbformat": 4,
 "nbformat_minor": 4
}
