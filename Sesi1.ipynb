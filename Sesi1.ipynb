{
 "cells": [
  {
   "cell_type": "markdown",
   "metadata": {},
   "source": [
    "# Introduction, Data Types, and Variables"
   ]
  },
  {
   "cell_type": "markdown",
   "metadata": {},
   "source": [
    "## A. Data Types\n",
    "### 1. Integers"
   ]
  },
  {
   "cell_type": "code",
   "execution_count": 1,
   "metadata": {},
   "outputs": [
    {
     "name": "stdout",
     "output_type": "stream",
     "text": [
      "10\n",
      "<class 'int'>\n"
     ]
    }
   ],
   "source": [
    "print(10)\n",
    "print(type(10))"
   ]
  },
  {
   "cell_type": "markdown",
   "metadata": {},
   "source": [
    "### 2. Floating Point numbers"
   ]
  },
  {
   "cell_type": "code",
   "execution_count": 3,
   "metadata": {},
   "outputs": [
    {
     "name": "stdout",
     "output_type": "stream",
     "text": [
      "4.2\n",
      "<class 'float'>\n",
      "4.0\n",
      "0.2\n",
      "4000000.0\n",
      "0.00042\n"
     ]
    }
   ],
   "source": [
    "print(4.2)\n",
    "print(type(4.2))\n",
    "\n",
    "print(4.)\n",
    "print(.2)\n",
    "print(.4e7)\n",
    "print(4.2e-4)"
   ]
  },
  {
   "cell_type": "markdown",
   "metadata": {},
   "source": [
    "### 3. Strings"
   ]
  },
  {
   "cell_type": "code",
   "execution_count": 4,
   "metadata": {},
   "outputs": [
    {
     "name": "stdout",
     "output_type": "stream",
     "text": [
      "Hacktiv8\n",
      "Hacktiv8\n",
      "<class 'str'>\n",
      "<class 'str'>\n"
     ]
    }
   ],
   "source": [
    "print(\"Hacktiv8\")\n",
    "print('Hacktiv8')\n",
    "print(type(\"Hacktiv8\"))\n",
    "print(type('Hacktiv8'))"
   ]
  },
  {
   "cell_type": "markdown",
   "metadata": {},
   "source": [
    "### 4. Boolean Type, Boolean Context, and \"Truthiness\""
   ]
  },
  {
   "cell_type": "code",
   "execution_count": 5,
   "metadata": {},
   "outputs": [
    {
     "name": "stdout",
     "output_type": "stream",
     "text": [
      "<class 'bool'>\n",
      "<class 'bool'>\n"
     ]
    }
   ],
   "source": [
    "print(type(True))\n",
    "print(type(False))"
   ]
  },
  {
   "cell_type": "markdown",
   "metadata": {},
   "source": [
    "## b. Variabel\n",
    "### 1. Var assignment"
   ]
  },
  {
   "cell_type": "code",
   "execution_count": 6,
   "metadata": {},
   "outputs": [
    {
     "name": "stdout",
     "output_type": "stream",
     "text": [
      "2\n"
     ]
    },
    {
     "data": {
      "text/plain": [
       "2"
      ]
     },
     "execution_count": 6,
     "metadata": {},
     "output_type": "execute_result"
    }
   ],
   "source": [
    "n = 2\n",
    "print(n)\n",
    "\n",
    "n"
   ]
  },
  {
   "cell_type": "code",
   "execution_count": 7,
   "metadata": {},
   "outputs": [
    {
     "name": "stdout",
     "output_type": "stream",
     "text": [
      "300 300 300\n"
     ]
    }
   ],
   "source": [
    "a=b=c=300\n",
    "print(a,b,c)"
   ]
  },
  {
   "cell_type": "markdown",
   "metadata": {},
   "source": [
    "### 2. var types in python"
   ]
  },
  {
   "cell_type": "code",
   "execution_count": 8,
   "metadata": {},
   "outputs": [
    {
     "name": "stdout",
     "output_type": "stream",
     "text": [
      "23.1\n",
      "now iam a string\n"
     ]
    }
   ],
   "source": [
    "var = 23.1\n",
    "print(var)\n",
    "\n",
    "var = 'now iam a string'\n",
    "print(var)"
   ]
  },
  {
   "cell_type": "markdown",
   "metadata": {},
   "source": [
    "### 3. operator, arithmatic operator"
   ]
  },
  {
   "cell_type": "code",
   "execution_count": 11,
   "metadata": {},
   "outputs": [
    {
     "name": "stdout",
     "output_type": "stream",
     "text": [
      "5\n",
      "-1\n",
      "6\n",
      "0.6666666666666666\n",
      "2\n",
      "8\n"
     ]
    }
   ],
   "source": [
    "a = 2\n",
    "b = 3\n",
    "\n",
    "print(a+b)\n",
    "print(a-b)\n",
    "print(a*b)\n",
    "print(a/b)\n",
    "print(a%b)\n",
    "print(a**b)"
   ]
  },
  {
   "cell_type": "markdown",
   "metadata": {},
   "source": [
    "### 4. Comparison operators"
   ]
  },
  {
   "cell_type": "code",
   "execution_count": 12,
   "metadata": {},
   "outputs": [
    {
     "name": "stdout",
     "output_type": "stream",
     "text": [
      "False\n",
      "True\n",
      "True\n",
      "False\n",
      "==========\n",
      "True\n",
      "False\n",
      "True\n",
      "True\n"
     ]
    }
   ],
   "source": [
    "a = 10\n",
    "b = 20\n",
    "print(a==b)\n",
    "print(a!=b)\n",
    "print(a<=b)\n",
    "print(a>=b)\n",
    "\n",
    "print('='*10)\n",
    "\n",
    "a=2\n",
    "b=2\n",
    "print(a==b)\n",
    "print(a!=b)\n",
    "print(a<=b)\n",
    "print(a>=b)"
   ]
  },
  {
   "cell_type": "markdown",
   "metadata": {},
   "source": [
    "### 5. string manipulation"
   ]
  },
  {
   "cell_type": "code",
   "execution_count": 16,
   "metadata": {},
   "outputs": [
    {
     "name": "stdout",
     "output_type": "stream",
     "text": [
      "helmi\n",
      "helmigood\n",
      "Hactiv8PTP\n",
      "==========\n",
      "True\n",
      "False\n",
      "==========\n",
      "Helmi\n",
      "helmi\n",
      "HeLmi\n",
      "Helmi\n",
      "HELMI\n"
     ]
    }
   ],
   "source": [
    "a = 'hel'\n",
    "b = 'mi'\n",
    "c = 'good'\n",
    "print(a+b)\n",
    "print(a+b+c)\n",
    "print('Hactiv8'+'PTP')\n",
    "\n",
    "print('='*10)\n",
    "\n",
    "s='foo'\n",
    "print(s in 'that food for us')\n",
    "print(s in 'that good for us')\n",
    "\n",
    "print('='*10)\n",
    "\n",
    "t = 'hElMI'\n",
    "print(t.capitalize())\n",
    "print(t.lower())\n",
    "print(t.swapcase())\n",
    "print(t.title())\n",
    "print(t.upper())\n"
   ]
  },
  {
   "cell_type": "markdown",
   "metadata": {},
   "source": [
    "## C. Python List\n"
   ]
  },
  {
   "cell_type": "code",
   "execution_count": 34,
   "metadata": {},
   "outputs": [
    {
     "name": "stdout",
     "output_type": "stream",
     "text": [
      "['hel', 'mi', 'good']\n",
      "==========\n",
      "False\n",
      "==========\n",
      "['hel', 4, 'mi', 'good', 5, False]\n",
      "==========\n",
      "hel\n",
      "as\n",
      "as\n",
      "hel\n",
      "['good', 'ac', 'ax']\n",
      "==========\n",
      "['hel', 'mi', 'good', 'baik', 'pintar']\n",
      "['hel', 'mi', 'good', 'hel', 'mi', 'good']\n",
      "==========\n",
      "3\n",
      "good\n",
      "mi\n",
      "==========\n",
      "modifying a single list value\n",
      "['hel', 10, 20]\n",
      "==========\n",
      "delete item list\n",
      "['hel', 10]\n",
      "==========\n",
      "modifying multiple list values\n",
      "['mi', 'good', 'ac']\n",
      "['hel', 1.1, 2.2, 3.3, 4.4, 'ax', 'as']\n"
     ]
    }
   ],
   "source": [
    "a = ['hel','mi','good']\n",
    "print(a)\n",
    "\n",
    "print('='*10)\n",
    "\n",
    "b = ['ac','ax','as']\n",
    "c = ['ax','as','ac']\n",
    "\n",
    "print(b==c)\n",
    "\n",
    "print('='*10)\n",
    "\n",
    "d = ['hel',4,'mi','good',5,False]\n",
    "print(d)\n",
    "\n",
    "print('='*10)\n",
    "\n",
    "e = ['hel','mi','good','ac','ax','as']\n",
    "print(e[0])\n",
    "print(e[5])\n",
    "print(e[-1])\n",
    "print(e[-6])\n",
    "print(e[2:5])\n",
    "\n",
    "print('='*10)\n",
    "\n",
    "print(a+['baik','pintar'])\n",
    "print(a*2)\n",
    "\n",
    "print('='*10)\n",
    "\n",
    "print(len(a))\n",
    "print(min(a))\n",
    "print(max(a))\n",
    "\n",
    "print('='*10)\n",
    "print('modifying a single list value')\n",
    "a[1]=10\n",
    "a[-1]=20\n",
    "print(a)\n",
    "\n",
    "print('='*10)\n",
    "print('delete item list')\n",
    "del a[2]\n",
    "print(a)\n",
    "\n",
    "print('='*10)\n",
    "print('modifying multiple list values')\n",
    "print(e[1:4])\n",
    "e[1:4]=[1.1,2.2,3.3,4.4]\n",
    "print(e)"
   ]
  },
  {
   "cell_type": "markdown",
   "metadata": {},
   "source": [
    "## D. Python Tuples"
   ]
  },
  {
   "cell_type": "code",
   "execution_count": 38,
   "metadata": {},
   "outputs": [
    {
     "name": "stdout",
     "output_type": "stream",
     "text": [
      "('hel', 1.1, 2.2, 3.3, 4.4, 'ax', 'as')\n",
      "hel\n",
      "as\n",
      "==========\n",
      "packing unpacking\n"
     ]
    }
   ],
   "source": [
    "x = ('hel', 1.1, 2.2, 3.3, 4.4, 'ax', 'as')\n",
    "print(x)\n",
    "print(x[0])\n",
    "print(x[-1])\n",
    "\n",
    "print('='*10)\n",
    "print('packing unpacking')\n",
    "(s1,s2,s3,s4) = ['mi', 'good', 'ac','mi']"
   ]
  },
  {
   "cell_type": "markdown",
   "metadata": {},
   "source": [
    "## E. Dictionary"
   ]
  },
  {
   "cell_type": "code",
   "execution_count": 45,
   "metadata": {},
   "outputs": [
    {
     "name": "stdout",
     "output_type": "stream",
     "text": [
      "twins\n",
      "rockies\n",
      "==========\n",
      "adding an entry to dictionary\n",
      "{'colorado': 'rockies', 'boston': 'red sox', 'minnesota': 'twins', 'milwaukee': 'brewers', 'seatle': 'mariners', 'kansas city': 'royals'}\n",
      "==========\n",
      "update an entry\n",
      "{'colorado': 'rockies', 'boston': 'red sox', 'minnesota': 'twins', 'milwaukee': 'brewers', 'seatle': 'seahawks', 'kansas city': 'royals'}\n",
      "==========\n",
      "delete an entry\n",
      "{'colorado': 'rockies', 'boston': 'red sox', 'minnesota': 'twins', 'milwaukee': 'brewers', 'kansas city': 'royals'}\n",
      "==========\n",
      "building a dict incrementally\n",
      "{'nama': 'Helmi', 'umur': 21, 'teman': ['danny', 'angga'], 'pets': {'dog': 'danny', 'cat': 'helmi'}}\n",
      "angga\n",
      "helmi\n"
     ]
    }
   ],
   "source": [
    "MLB_team = {\n",
    "    'colorado': 'rockies',\n",
    "    'boston': 'red sox',\n",
    "    'minnesota': 'twins',\n",
    "    'milwaukee': 'brewers',\n",
    "    'seatle': 'mariners'\n",
    "}\n",
    "print(MLB_team['minnesota'])\n",
    "print(MLB_team['colorado'])\n",
    "\n",
    "print('='*10)\n",
    "print('adding an entry to dictionary')\n",
    "MLB_team['kansas city'] = 'royals'\n",
    "print(MLB_team)\n",
    "\n",
    "print('='*10)\n",
    "print('update an entry')\n",
    "MLB_team['seatle']='seahawks'\n",
    "print(MLB_team)\n",
    "\n",
    "print('='*10)\n",
    "print('delete an entry')\n",
    "del MLB_team['seatle']\n",
    "print(MLB_team)\n",
    "\n",
    "print('='*10)\n",
    "print('building a dict incrementally')\n",
    "person={}\n",
    "type(person)\n",
    "\n",
    "person['nama']='Helmi'\n",
    "person['umur']=21\n",
    "person['teman']=['danny','angga']\n",
    "person['pets']={'dog':'danny', 'cat':'helmi'}\n",
    "print(person)\n",
    "print(person['teman'][1])\n",
    "print(person['pets']['cat'])"
   ]
  },
  {
   "cell_type": "code",
   "execution_count": 46,
   "metadata": {},
   "outputs": [
    {
     "name": "stdout",
     "output_type": "stream",
     "text": [
      "dict_items([('a', 10), ('b', 20), ('c', 30)])\n",
      "dict_keys(['a', 'b', 'c'])\n",
      "dict_values([10, 20, 30])\n"
     ]
    }
   ],
   "source": [
    "#built-in methods\n",
    "d = {'a':10, 'b':20, 'c':30}\n",
    "\n",
    "#items\n",
    "print(d.items())\n",
    "\n",
    "#keys\n",
    "print(d.keys())\n",
    "\n",
    "#values\n",
    "print(d.values())"
   ]
  },
  {
   "cell_type": "code",
   "execution_count": 47,
   "metadata": {},
   "outputs": [
    {
     "data": {
      "text/plain": [
       "True"
      ]
     },
     "execution_count": 47,
     "metadata": {},
     "output_type": "execute_result"
    }
   ],
   "source": [
    "#line continue\n",
    "person1_age = 42\n",
    "person2_age = 16\n",
    "person3_age = 71\n",
    "someone_is_of_working_age = (\n",
    "    (person1_age >= 18 and person1_age <= 65)\n",
    "    or (person2_age >= 18 and person2_age <= 65)\n",
    "    or (person3_age >= 18 and person3_age <= 65)\n",
    ")\n",
    "someone_is_of_working_age"
   ]
  }
 ],
 "metadata": {
  "interpreter": {
   "hash": "fbe69909b876abbd803d291e51ebabcdbbeff4e7f625f723ebefe76e750e4611"
  },
  "kernelspec": {
   "display_name": "Python 3.7.6 64-bit",
   "language": "python",
   "name": "python3"
  },
  "language_info": {
   "codemirror_mode": {
    "name": "ipython",
    "version": 3
   },
   "file_extension": ".py",
   "mimetype": "text/x-python",
   "name": "python",
   "nbconvert_exporter": "python",
   "pygments_lexer": "ipython3",
   "version": "3.7.6"
  },
  "orig_nbformat": 4
 },
 "nbformat": 4,
 "nbformat_minor": 2
}
