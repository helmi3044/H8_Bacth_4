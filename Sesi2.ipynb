{
 "cells": [
  {
   "cell_type": "markdown",
   "metadata": {},
   "source": [
    "# Conditions, Control Flow & Looping"
   ]
  },
  {
   "cell_type": "markdown",
   "metadata": {},
   "source": [
    "## Intro if statement"
   ]
  },
  {
   "cell_type": "code",
   "execution_count": 3,
   "metadata": {},
   "outputs": [
    {
     "name": "stdout",
     "output_type": "stream",
     "text": [
      "Yes2\n",
      "yes3\n",
      "yes4\n",
      "yes5\n"
     ]
    }
   ],
   "source": [
    "x = 3\n",
    "y = 2\n",
    "\n",
    "if x < y:\n",
    "    print('yes1')\n",
    "    \n",
    "if y < x:\n",
    "    print('Yes2')\n",
    "    \n",
    "if x:\n",
    "    print('yes3')\n",
    "\n",
    "if y:\n",
    "    print('yes4')\n",
    "    \n",
    "if 'el' in 'helmi':\n",
    "    print('yes5')\n",
    "    \n",
    "if 'Rei' in ['helmi', 'saifullah','mansur']:\n",
    "    print('yes6')"
   ]
  },
  {
   "cell_type": "markdown",
   "metadata": {},
   "source": [
    "## grouping statements: indentation and blocks"
   ]
  },
  {
   "cell_type": "code",
   "execution_count": 6,
   "metadata": {},
   "outputs": [
    {
     "name": "stdout",
     "output_type": "stream",
     "text": [
      "outer cond is true\n",
      "between inner condition\n",
      "inner condition 2\n",
      "end of outer cond\n",
      "after outer cond\n"
     ]
    }
   ],
   "source": [
    "if 'jkt' in ['bnk', 'akb', 'jkt']:\n",
    "    print('outer cond is true')\n",
    "    \n",
    "    if 10 > 20:\n",
    "        print('inner condition 1')\n",
    "        \n",
    "    print('between inner condition')\n",
    "    \n",
    "    if 10<20:\n",
    "        print('inner condition 2')\n",
    "        \n",
    "    print('end of outer cond')\n",
    "print('after outer cond')"
   ]
  },
  {
   "cell_type": "code",
   "execution_count": 15,
   "metadata": {},
   "outputs": [
    {
     "name": "stdout",
     "output_type": "stream",
     "text": [
      "(first suite)\n",
      "x is small\n",
      "==========\n",
      "(second suite)\n",
      "x is large\n",
      "==========\n",
      "beli permen\n",
      "==========\n",
      "beli permen\n",
      "==========\n",
      "oyi\n",
      "==========\n",
      "s\n",
      "a\n",
      "l\n",
      "==========\n",
      "s\n",
      "a\n"
     ]
    }
   ],
   "source": [
    "#if else statement\n",
    "\n",
    "x = 1\n",
    "if x < 2:\n",
    "    print('(first suite)')\n",
    "    print('x is small')\n",
    "else:\n",
    "    print('(second suite)')\n",
    "    print('x is large')\n",
    "    \n",
    "print('='*10)\n",
    "\n",
    "x = 3\n",
    "if x < 2:\n",
    "    print('(first suite)')\n",
    "    print('x is small')\n",
    "else:\n",
    "    print('(second suite)')\n",
    "    print('x is large')\n",
    "    \n",
    "print('='*10)\n",
    "\n",
    "permen = 500\n",
    "choco = 2200\n",
    "uang = 1000\n",
    "\n",
    "if uang > choco:\n",
    "    print('beli choco')\n",
    "else:\n",
    "    print('beli permen')\n",
    "    \n",
    "print('='*10)\n",
    "\n",
    "#if elif\n",
    "permen = 500\n",
    "choco = 2200\n",
    "uang = 1000\n",
    "\n",
    "if uang > choco:\n",
    "    print('beli choco')\n",
    "elif uang < choco:\n",
    "    print('beli permen')\n",
    "else:\n",
    "    print('pulang gih ga cukup')\n",
    "    \n",
    "print('='*10)\n",
    "\n",
    "if 'a' in 'sal':\n",
    "    print('oyi')\n",
    "elif 1/0:\n",
    "    print('g mungkin')\n",
    "elif var:\n",
    "    print('apalagi ini')\n",
    "    \n",
    "print('='*10)\n",
    "\n",
    "if 'a' in 'sal': print('s'); print('a'); print('l')\n",
    "    \n",
    "if 'i' in 'sal': print('s'); print('a'); print('l')\n",
    "    \n",
    "print('='*10)\n",
    "\n",
    "x=2\n",
    "if x==1: print('s'); print('a'); print('l')\n",
    "elif x==2: print('s'); print('a')\n",
    "else: print('s')"
   ]
  },
  {
   "cell_type": "markdown",
   "metadata": {},
   "source": [
    "## conditional expressions"
   ]
  },
  {
   "cell_type": "code",
   "execution_count": 25,
   "metadata": {},
   "outputs": [
    {
     "name": "stdout",
     "output_type": "stream",
     "text": [
      "kuy ke mall\n",
      "==========\n"
     ]
    },
    {
     "data": {
      "text/plain": [
       "'adult'"
      ]
     },
     "execution_count": 25,
     "metadata": {},
     "output_type": "execute_result"
    }
   ],
   "source": [
    "raining=True\n",
    "print('kuy ke', 'pantai' if not raining else 'mall')\n",
    "\n",
    "print('='*10)\n",
    "\n",
    "umur = 21\n",
    "a = 'teen' if umur < 20 else 'adult'\n",
    "a\n",
    "\n",
    "#'ya' if ('hel' in ['hel', 'sal']) else 'no'"
   ]
  },
  {
   "cell_type": "markdown",
   "metadata": {},
   "source": [
    "## python pass stat"
   ]
  },
  {
   "cell_type": "code",
   "execution_count": 26,
   "metadata": {},
   "outputs": [
    {
     "name": "stdout",
     "output_type": "stream",
     "text": [
      "hey\n"
     ]
    }
   ],
   "source": [
    "if True:\n",
    "    pass\n",
    "print('hey')"
   ]
  },
  {
   "cell_type": "markdown",
   "metadata": {},
   "source": [
    "## python while loop"
   ]
  },
  {
   "cell_type": "code",
   "execution_count": 28,
   "metadata": {},
   "outputs": [
    {
     "name": "stdout",
     "output_type": "stream",
     "text": [
      "1\n",
      "2\n",
      "3\n",
      "4\n",
      "5\n"
     ]
    }
   ],
   "source": [
    "a = 1\n",
    "while a<6:\n",
    "    print(a)\n",
    "    a+=1"
   ]
  },
  {
   "cell_type": "markdown",
   "metadata": {},
   "source": [
    "## python break & continue stat"
   ]
  },
  {
   "cell_type": "code",
   "execution_count": 29,
   "metadata": {},
   "outputs": [
    {
     "name": "stdout",
     "output_type": "stream",
     "text": [
      "4\n",
      "3\n",
      "selesai\n"
     ]
    }
   ],
   "source": [
    "n = 5\n",
    "while n > 0:\n",
    "    n-= 1\n",
    "    if n==2:\n",
    "        break\n",
    "    print(n)\n",
    "print('selesai')"
   ]
  },
  {
   "cell_type": "code",
   "execution_count": 30,
   "metadata": {},
   "outputs": [
    {
     "name": "stdout",
     "output_type": "stream",
     "text": [
      "4\n",
      "3\n",
      "1\n",
      "0\n",
      "selesai\n"
     ]
    }
   ],
   "source": [
    "n = 5\n",
    "while n > 0:\n",
    "    n-= 1\n",
    "    if n==2:\n",
    "        continue\n",
    "    print(n)\n",
    "print('selesai')"
   ]
  },
  {
   "cell_type": "markdown",
   "metadata": {},
   "source": [
    "## else clause"
   ]
  },
  {
   "cell_type": "code",
   "execution_count": 31,
   "metadata": {},
   "outputs": [
    {
     "name": "stdout",
     "output_type": "stream",
     "text": [
      "4\n",
      "3\n",
      "2\n",
      "1\n",
      "0\n",
      "selesai\n"
     ]
    }
   ],
   "source": [
    "n = 5\n",
    "while n > 0:\n",
    "    n-= 1\n",
    "    print(n)\n",
    "else:\n",
    "    print('selesai')"
   ]
  },
  {
   "cell_type": "code",
   "execution_count": 32,
   "metadata": {},
   "outputs": [
    {
     "name": "stdout",
     "output_type": "stream",
     "text": [
      "4\n",
      "3\n",
      "2\n"
     ]
    }
   ],
   "source": [
    "n = 5\n",
    "while n > 0:\n",
    "    n-= 1\n",
    "    print(n)\n",
    "    if n==2:\n",
    "        break\n",
    "else:\n",
    "    print('selesai')"
   ]
  },
  {
   "cell_type": "markdown",
   "metadata": {},
   "source": [
    "## infnite loops"
   ]
  },
  {
   "cell_type": "code",
   "execution_count": 35,
   "metadata": {},
   "outputs": [
    {
     "name": "stdout",
     "output_type": "stream",
     "text": [
      "masukan umur :23\n",
      "masukkan gender:M\n",
      "ayah\n"
     ]
    }
   ],
   "source": [
    "umur = int(input('masukan umur :'))\n",
    "gend = input('masukkan gender:')\n",
    "\n",
    "if umur < 18:\n",
    "    if gend == 'M':\n",
    "        print('anak lk')\n",
    "    else:\n",
    "        print('anak pr')\n",
    "elif umur >= 18 and umur < 65:\n",
    "    if gend == 'M':\n",
    "        print('ayah')\n",
    "    else:\n",
    "        print('ibu')\n",
    "else:\n",
    "    if gend == 'M':\n",
    "        print('kakek')\n",
    "    else:\n",
    "        print('nenek')"
   ]
  },
  {
   "cell_type": "code",
   "execution_count": 39,
   "metadata": {},
   "outputs": [
    {
     "name": "stdout",
     "output_type": "stream",
     "text": [
      "hel\n",
      "> py\n",
      "> thon\n",
      "mi\n",
      "> py\n",
      "> thon\n"
     ]
    }
   ],
   "source": [
    "a = ['hel', 'mi']\n",
    "while len(a):\n",
    "    print(a.pop(0))\n",
    "    \n",
    "    b = ['py', 'thon']\n",
    "    while len(b):\n",
    "        print('>', b.pop(0))"
   ]
  },
  {
   "cell_type": "markdown",
   "metadata": {},
   "source": [
    "## one-line while loops"
   ]
  },
  {
   "cell_type": "code",
   "execution_count": 40,
   "metadata": {},
   "outputs": [
    {
     "name": "stdout",
     "output_type": "stream",
     "text": [
      "4\n",
      "3\n",
      "2\n",
      "1\n",
      "0\n"
     ]
    }
   ],
   "source": [
    "n=5\n",
    "while n>0: n-=1; print(n)"
   ]
  },
  {
   "cell_type": "markdown",
   "metadata": {},
   "source": [
    "## python for loop"
   ]
  },
  {
   "cell_type": "code",
   "execution_count": 41,
   "metadata": {},
   "outputs": [
    {
     "name": "stdout",
     "output_type": "stream",
     "text": [
      "hel\n",
      "mi\n"
     ]
    }
   ],
   "source": [
    "a = ['hel', 'mi']\n",
    "for i in a:\n",
    "    print(i)"
   ]
  },
  {
   "cell_type": "code",
   "execution_count": 46,
   "metadata": {},
   "outputs": [
    {
     "name": "stdout",
     "output_type": "stream",
     "text": [
      "hel\n",
      "mi\n",
      "1\n",
      "2\n",
      "1\n",
      "2\n",
      "hel ; 1\n",
      "mi ; 2\n"
     ]
    }
   ],
   "source": [
    "a = {'hel':1, 'mi':2}\n",
    "for i in a:\n",
    "    print(i)\n",
    "    \n",
    "for i in a:\n",
    "    print(a[i])\n",
    "    \n",
    "for i in a.values():\n",
    "    print(i)\n",
    "    \n",
    "for i, v in a.items():\n",
    "    print(i, \";\", v)"
   ]
  },
  {
   "cell_type": "markdown",
   "metadata": {},
   "source": [
    "## the range() function"
   ]
  },
  {
   "cell_type": "code",
   "execution_count": 47,
   "metadata": {},
   "outputs": [
    {
     "name": "stdout",
     "output_type": "stream",
     "text": [
      "0\n",
      "1\n",
      "2\n",
      "3\n",
      "4\n"
     ]
    }
   ],
   "source": [
    "x = range(5)\n",
    "for n in x:\n",
    "    print(n)"
   ]
  },
  {
   "cell_type": "markdown",
   "metadata": {},
   "source": [
    "## altering for loop behavior"
   ]
  },
  {
   "cell_type": "code",
   "execution_count": 48,
   "metadata": {},
   "outputs": [
    {
     "name": "stdout",
     "output_type": "stream",
     "text": [
      "hel\n"
     ]
    }
   ],
   "source": [
    "for i in  ['hel', 'mi','good']:\n",
    "    if 'm' in i:\n",
    "        break\n",
    "    print(i)"
   ]
  },
  {
   "cell_type": "code",
   "execution_count": 49,
   "metadata": {},
   "outputs": [
    {
     "name": "stdout",
     "output_type": "stream",
     "text": [
      "hel\n",
      "good\n"
     ]
    }
   ],
   "source": [
    "for i in  ['hel', 'mi','good']:\n",
    "    if 'm' in i:\n",
    "        continue\n",
    "    print(i)"
   ]
  },
  {
   "cell_type": "code",
   "execution_count": 50,
   "metadata": {},
   "outputs": [
    {
     "name": "stdout",
     "output_type": "stream",
     "text": [
      "hel\n",
      "mi\n",
      "good\n",
      "done\n"
     ]
    }
   ],
   "source": [
    "for i in  ['hel', 'mi','good']:\n",
    "    print(i)\n",
    "else:\n",
    "    print('done')"
   ]
  },
  {
   "cell_type": "code",
   "execution_count": 51,
   "metadata": {},
   "outputs": [
    {
     "name": "stdout",
     "output_type": "stream",
     "text": [
      "hel\n"
     ]
    }
   ],
   "source": [
    "for i in  ['hel', 'mi','good']:\n",
    "    if i == 'mi':\n",
    "        break\n",
    "    print(i)\n",
    "else:\n",
    "    print('done')"
   ]
  },
  {
   "cell_type": "markdown",
   "metadata": {},
   "source": [
    "## contoh penggunaan"
   ]
  },
  {
   "cell_type": "code",
   "execution_count": 53,
   "metadata": {},
   "outputs": [
    {
     "name": "stdout",
     "output_type": "stream",
     "text": [
      "temperatur yg ingin dikonversi, eg. 45F, 120C: 45F\n",
      "temperaturnya adalah 7 derajat\n"
     ]
    }
   ],
   "source": [
    "temp = input('temperatur yg ingin dikonversi, eg. 45F, 120C: ')\n",
    "degree = int(temp[:-1])\n",
    "i_convert = temp[-1]\n",
    "\n",
    "if i_convert == \"C\":\n",
    "    result = int(round((9*degree)/ 5 + 32))\n",
    "elif i_convert == \"F\":\n",
    "    result = int(round((degree - 32) * 5/9))\n",
    "else:\n",
    "    print('masukkan input yg benar')\n",
    "    \n",
    "print('temperaturnya adalah', result, 'derajat')"
   ]
  },
  {
   "cell_type": "code",
   "execution_count": 55,
   "metadata": {},
   "outputs": [
    {
     "name": "stdout",
     "output_type": "stream",
     "text": [
      "masukkan karakter: RUN\n",
      "run\n",
      "masukkan karakter: STOP\n",
      "stop\n"
     ]
    }
   ],
   "source": [
    "while True:\n",
    "    msg= input('masukkan karakter: ').lower()\n",
    "    print(msg)\n",
    "    if msg == \"stop\":\n",
    "        break"
   ]
  },
  {
   "cell_type": "code",
   "execution_count": 3,
   "metadata": {},
   "outputs": [
    {
     "name": "stdout",
     "output_type": "stream",
     "text": [
      "angka ini bilangan genap\n"
     ]
    }
   ],
   "source": [
    "angka=20\n",
    "if angka%2==0:\n",
    "    print('angka ini bilangan genap')\n",
    "else:\n",
    "    print('angka termasuk bilangan ganjil')"
   ]
  }
 ],
 "metadata": {
  "kernelspec": {
   "display_name": "Python 3",
   "language": "python",
   "name": "python3"
  },
  "language_info": {
   "codemirror_mode": {
    "name": "ipython",
    "version": 3
   },
   "file_extension": ".py",
   "mimetype": "text/x-python",
   "name": "python",
   "nbconvert_exporter": "python",
   "pygments_lexer": "ipython3",
   "version": "3.7.6"
  }
 },
 "nbformat": 4,
 "nbformat_minor": 4
}
