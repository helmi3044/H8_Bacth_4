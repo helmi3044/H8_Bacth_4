{
 "cells": [
  {
   "cell_type": "markdown",
   "metadata": {},
   "source": [
    "# ASSIGNMENT PYRHON 3\n",
    "Nama : Helmi Saifullah Mansur\n",
    "\n",
    "Program : Python for Data Science\n",
    "\n",
    "Kode Peserta : PYTN-KS04-010\n",
    "\n",
    "# Bank Marketing Data Set\n",
    "Pada assignment kali ini saya akan mengembangkan model dengan menggunakan dataset direct marketing campaigns of a portuguese banking institution. goal dari klasifikasi adalah memprediksi apakah client akan subscribe (yes/no) sebuah term deposit (variabel y).\n",
    "\n",
    "## 1. Exploring & Preparation Dataset with Pandas (Preprocessing)\n",
    "pada sesi ini akan menjelaskan tentang pre-processing yang dilakukan pada dataset sebelum dilakukan pemodelan"
   ]
  },
  {
   "cell_type": "code",
   "execution_count": 1,
   "metadata": {},
   "outputs": [],
   "source": [
    "# import packages yang digunakan\n",
    "import pandas as pd\n",
    "import numpy as np"
   ]
  },
  {
   "cell_type": "markdown",
   "metadata": {},
   "source": [
    "disini saya menggunakan dataset bank-full.csv untuk dilakukan pemodelan"
   ]
  },
  {
   "cell_type": "code",
   "execution_count": 2,
   "metadata": {},
   "outputs": [
    {
     "name": "stdout",
     "output_type": "stream",
     "text": [
      "Data read into a dataframe!\n"
     ]
    }
   ],
   "source": [
    "# memasukkan dataset ke dalam pandas dataframe\n",
    "df = pd.read_csv('dataset/bank/bank-full.csv', sep=';')\n",
    "print('Data read into a dataframe!')"
   ]
  },
  {
   "cell_type": "code",
   "execution_count": 3,
   "metadata": {},
   "outputs": [
    {
     "data": {
      "text/html": [
       "<div>\n",
       "<style scoped>\n",
       "    .dataframe tbody tr th:only-of-type {\n",
       "        vertical-align: middle;\n",
       "    }\n",
       "\n",
       "    .dataframe tbody tr th {\n",
       "        vertical-align: top;\n",
       "    }\n",
       "\n",
       "    .dataframe thead th {\n",
       "        text-align: right;\n",
       "    }\n",
       "</style>\n",
       "<table border=\"1\" class=\"dataframe\">\n",
       "  <thead>\n",
       "    <tr style=\"text-align: right;\">\n",
       "      <th></th>\n",
       "      <th>age</th>\n",
       "      <th>job</th>\n",
       "      <th>marital</th>\n",
       "      <th>education</th>\n",
       "      <th>default</th>\n",
       "      <th>balance</th>\n",
       "      <th>housing</th>\n",
       "      <th>loan</th>\n",
       "      <th>contact</th>\n",
       "      <th>day</th>\n",
       "      <th>month</th>\n",
       "      <th>duration</th>\n",
       "      <th>campaign</th>\n",
       "      <th>pdays</th>\n",
       "      <th>previous</th>\n",
       "      <th>poutcome</th>\n",
       "      <th>y</th>\n",
       "    </tr>\n",
       "  </thead>\n",
       "  <tbody>\n",
       "    <tr>\n",
       "      <th>0</th>\n",
       "      <td>58</td>\n",
       "      <td>management</td>\n",
       "      <td>married</td>\n",
       "      <td>tertiary</td>\n",
       "      <td>no</td>\n",
       "      <td>2143</td>\n",
       "      <td>yes</td>\n",
       "      <td>no</td>\n",
       "      <td>unknown</td>\n",
       "      <td>5</td>\n",
       "      <td>may</td>\n",
       "      <td>261</td>\n",
       "      <td>1</td>\n",
       "      <td>-1</td>\n",
       "      <td>0</td>\n",
       "      <td>unknown</td>\n",
       "      <td>no</td>\n",
       "    </tr>\n",
       "    <tr>\n",
       "      <th>1</th>\n",
       "      <td>44</td>\n",
       "      <td>technician</td>\n",
       "      <td>single</td>\n",
       "      <td>secondary</td>\n",
       "      <td>no</td>\n",
       "      <td>29</td>\n",
       "      <td>yes</td>\n",
       "      <td>no</td>\n",
       "      <td>unknown</td>\n",
       "      <td>5</td>\n",
       "      <td>may</td>\n",
       "      <td>151</td>\n",
       "      <td>1</td>\n",
       "      <td>-1</td>\n",
       "      <td>0</td>\n",
       "      <td>unknown</td>\n",
       "      <td>no</td>\n",
       "    </tr>\n",
       "    <tr>\n",
       "      <th>2</th>\n",
       "      <td>33</td>\n",
       "      <td>entrepreneur</td>\n",
       "      <td>married</td>\n",
       "      <td>secondary</td>\n",
       "      <td>no</td>\n",
       "      <td>2</td>\n",
       "      <td>yes</td>\n",
       "      <td>yes</td>\n",
       "      <td>unknown</td>\n",
       "      <td>5</td>\n",
       "      <td>may</td>\n",
       "      <td>76</td>\n",
       "      <td>1</td>\n",
       "      <td>-1</td>\n",
       "      <td>0</td>\n",
       "      <td>unknown</td>\n",
       "      <td>no</td>\n",
       "    </tr>\n",
       "    <tr>\n",
       "      <th>3</th>\n",
       "      <td>47</td>\n",
       "      <td>blue-collar</td>\n",
       "      <td>married</td>\n",
       "      <td>unknown</td>\n",
       "      <td>no</td>\n",
       "      <td>1506</td>\n",
       "      <td>yes</td>\n",
       "      <td>no</td>\n",
       "      <td>unknown</td>\n",
       "      <td>5</td>\n",
       "      <td>may</td>\n",
       "      <td>92</td>\n",
       "      <td>1</td>\n",
       "      <td>-1</td>\n",
       "      <td>0</td>\n",
       "      <td>unknown</td>\n",
       "      <td>no</td>\n",
       "    </tr>\n",
       "    <tr>\n",
       "      <th>4</th>\n",
       "      <td>33</td>\n",
       "      <td>unknown</td>\n",
       "      <td>single</td>\n",
       "      <td>unknown</td>\n",
       "      <td>no</td>\n",
       "      <td>1</td>\n",
       "      <td>no</td>\n",
       "      <td>no</td>\n",
       "      <td>unknown</td>\n",
       "      <td>5</td>\n",
       "      <td>may</td>\n",
       "      <td>198</td>\n",
       "      <td>1</td>\n",
       "      <td>-1</td>\n",
       "      <td>0</td>\n",
       "      <td>unknown</td>\n",
       "      <td>no</td>\n",
       "    </tr>\n",
       "  </tbody>\n",
       "</table>\n",
       "</div>"
      ],
      "text/plain": [
       "   age           job  marital  education default  balance housing loan  \\\n",
       "0   58    management  married   tertiary      no     2143     yes   no   \n",
       "1   44    technician   single  secondary      no       29     yes   no   \n",
       "2   33  entrepreneur  married  secondary      no        2     yes  yes   \n",
       "3   47   blue-collar  married    unknown      no     1506     yes   no   \n",
       "4   33       unknown   single    unknown      no        1      no   no   \n",
       "\n",
       "   contact  day month  duration  campaign  pdays  previous poutcome   y  \n",
       "0  unknown    5   may       261         1     -1         0  unknown  no  \n",
       "1  unknown    5   may       151         1     -1         0  unknown  no  \n",
       "2  unknown    5   may        76         1     -1         0  unknown  no  \n",
       "3  unknown    5   may        92         1     -1         0  unknown  no  \n",
       "4  unknown    5   may       198         1     -1         0  unknown  no  "
      ]
     },
     "execution_count": 3,
     "metadata": {},
     "output_type": "execute_result"
    }
   ],
   "source": [
    "df.head()"
   ]
  },
  {
   "cell_type": "code",
   "execution_count": 4,
   "metadata": {},
   "outputs": [
    {
     "name": "stdout",
     "output_type": "stream",
     "text": [
      "<class 'pandas.core.frame.DataFrame'>\n",
      "RangeIndex: 45211 entries, 0 to 45210\n",
      "Data columns (total 17 columns):\n",
      " #   Column     Non-Null Count  Dtype \n",
      "---  ------     --------------  ----- \n",
      " 0   age        45211 non-null  int64 \n",
      " 1   job        45211 non-null  object\n",
      " 2   marital    45211 non-null  object\n",
      " 3   education  45211 non-null  object\n",
      " 4   default    45211 non-null  object\n",
      " 5   balance    45211 non-null  int64 \n",
      " 6   housing    45211 non-null  object\n",
      " 7   loan       45211 non-null  object\n",
      " 8   contact    45211 non-null  object\n",
      " 9   day        45211 non-null  int64 \n",
      " 10  month      45211 non-null  object\n",
      " 11  duration   45211 non-null  int64 \n",
      " 12  campaign   45211 non-null  int64 \n",
      " 13  pdays      45211 non-null  int64 \n",
      " 14  previous   45211 non-null  int64 \n",
      " 15  poutcome   45211 non-null  object\n",
      " 16  y          45211 non-null  object\n",
      "dtypes: int64(7), object(10)\n",
      "memory usage: 5.9+ MB\n"
     ]
    }
   ],
   "source": [
    "# melihat info tentang dataset\n",
    "df.info()"
   ]
  },
  {
   "cell_type": "code",
   "execution_count": 5,
   "metadata": {},
   "outputs": [
    {
     "data": {
      "text/plain": [
       "array(['age', 'job', 'marital', 'education', 'default', 'balance',\n",
       "       'housing', 'loan', 'contact', 'day', 'month', 'duration',\n",
       "       'campaign', 'pdays', 'previous', 'poutcome', 'y'], dtype=object)"
      ]
     },
     "execution_count": 5,
     "metadata": {},
     "output_type": "execute_result"
    }
   ],
   "source": [
    "# melihat list dari column headers\n",
    "df.columns.values"
   ]
  },
  {
   "cell_type": "code",
   "execution_count": 6,
   "metadata": {},
   "outputs": [
    {
     "data": {
      "text/plain": [
       "array([    0,     1,     2, ..., 45208, 45209, 45210], dtype=int64)"
      ]
     },
     "execution_count": 6,
     "metadata": {},
     "output_type": "execute_result"
    }
   ],
   "source": [
    "# melihat list index\n",
    "df.index.values"
   ]
  },
  {
   "cell_type": "code",
   "execution_count": 7,
   "metadata": {},
   "outputs": [
    {
     "data": {
      "text/plain": [
       "(45211, 17)"
      ]
     },
     "execution_count": 7,
     "metadata": {},
     "output_type": "execute_result"
    }
   ],
   "source": [
    "# melihat dimensi dataframe\n",
    "df.shape"
   ]
  },
  {
   "cell_type": "code",
   "execution_count": 8,
   "metadata": {},
   "outputs": [
    {
     "data": {
      "text/plain": [
       "array(['age', 'job', 'marital', 'education', 'default', 'balance',\n",
       "       'housing', 'loan', 'contact', 'day', 'month', 'duration',\n",
       "       'campaign', 'pdays', 'previous', 'poutcome', 'deposit'],\n",
       "      dtype=object)"
      ]
     },
     "execution_count": 8,
     "metadata": {},
     "output_type": "execute_result"
    }
   ],
   "source": [
    "# merubah nama kolom 'y' menjadi 'deposit'\n",
    "df = df.rename(columns={'y' : 'deposit'})\n",
    "df.columns.values"
   ]
  },
  {
   "cell_type": "code",
   "execution_count": 9,
   "metadata": {},
   "outputs": [
    {
     "data": {
      "text/plain": [
       "no     39922\n",
       "yes     5289\n",
       "Name: deposit, dtype: int64"
      ]
     },
     "execution_count": 9,
     "metadata": {},
     "output_type": "execute_result"
    }
   ],
   "source": [
    "# melihat distribusi class dari kolom deposit.\n",
    "# distribusi yang normal umumnya 50:50\n",
    "df['deposit'].value_counts()"
   ]
  },
  {
   "cell_type": "code",
   "execution_count": 10,
   "metadata": {},
   "outputs": [
    {
     "data": {
      "text/html": [
       "<div>\n",
       "<style scoped>\n",
       "    .dataframe tbody tr th:only-of-type {\n",
       "        vertical-align: middle;\n",
       "    }\n",
       "\n",
       "    .dataframe tbody tr th {\n",
       "        vertical-align: top;\n",
       "    }\n",
       "\n",
       "    .dataframe thead th {\n",
       "        text-align: right;\n",
       "    }\n",
       "</style>\n",
       "<table border=\"1\" class=\"dataframe\">\n",
       "  <thead>\n",
       "    <tr style=\"text-align: right;\">\n",
       "      <th></th>\n",
       "      <th>age</th>\n",
       "      <th>balance</th>\n",
       "      <th>day</th>\n",
       "      <th>duration</th>\n",
       "      <th>campaign</th>\n",
       "      <th>pdays</th>\n",
       "      <th>previous</th>\n",
       "    </tr>\n",
       "  </thead>\n",
       "  <tbody>\n",
       "    <tr>\n",
       "      <th>count</th>\n",
       "      <td>45211.000000</td>\n",
       "      <td>45211.000000</td>\n",
       "      <td>45211.000000</td>\n",
       "      <td>45211.000000</td>\n",
       "      <td>45211.000000</td>\n",
       "      <td>45211.000000</td>\n",
       "      <td>45211.000000</td>\n",
       "    </tr>\n",
       "    <tr>\n",
       "      <th>mean</th>\n",
       "      <td>40.936210</td>\n",
       "      <td>1362.272058</td>\n",
       "      <td>15.806419</td>\n",
       "      <td>258.163080</td>\n",
       "      <td>2.763841</td>\n",
       "      <td>40.197828</td>\n",
       "      <td>0.580323</td>\n",
       "    </tr>\n",
       "    <tr>\n",
       "      <th>std</th>\n",
       "      <td>10.618762</td>\n",
       "      <td>3044.765829</td>\n",
       "      <td>8.322476</td>\n",
       "      <td>257.527812</td>\n",
       "      <td>3.098021</td>\n",
       "      <td>100.128746</td>\n",
       "      <td>2.303441</td>\n",
       "    </tr>\n",
       "    <tr>\n",
       "      <th>min</th>\n",
       "      <td>18.000000</td>\n",
       "      <td>-8019.000000</td>\n",
       "      <td>1.000000</td>\n",
       "      <td>0.000000</td>\n",
       "      <td>1.000000</td>\n",
       "      <td>-1.000000</td>\n",
       "      <td>0.000000</td>\n",
       "    </tr>\n",
       "    <tr>\n",
       "      <th>25%</th>\n",
       "      <td>33.000000</td>\n",
       "      <td>72.000000</td>\n",
       "      <td>8.000000</td>\n",
       "      <td>103.000000</td>\n",
       "      <td>1.000000</td>\n",
       "      <td>-1.000000</td>\n",
       "      <td>0.000000</td>\n",
       "    </tr>\n",
       "    <tr>\n",
       "      <th>50%</th>\n",
       "      <td>39.000000</td>\n",
       "      <td>448.000000</td>\n",
       "      <td>16.000000</td>\n",
       "      <td>180.000000</td>\n",
       "      <td>2.000000</td>\n",
       "      <td>-1.000000</td>\n",
       "      <td>0.000000</td>\n",
       "    </tr>\n",
       "    <tr>\n",
       "      <th>75%</th>\n",
       "      <td>48.000000</td>\n",
       "      <td>1428.000000</td>\n",
       "      <td>21.000000</td>\n",
       "      <td>319.000000</td>\n",
       "      <td>3.000000</td>\n",
       "      <td>-1.000000</td>\n",
       "      <td>0.000000</td>\n",
       "    </tr>\n",
       "    <tr>\n",
       "      <th>max</th>\n",
       "      <td>95.000000</td>\n",
       "      <td>102127.000000</td>\n",
       "      <td>31.000000</td>\n",
       "      <td>4918.000000</td>\n",
       "      <td>63.000000</td>\n",
       "      <td>871.000000</td>\n",
       "      <td>275.000000</td>\n",
       "    </tr>\n",
       "  </tbody>\n",
       "</table>\n",
       "</div>"
      ],
      "text/plain": [
       "                age        balance           day      duration      campaign  \\\n",
       "count  45211.000000   45211.000000  45211.000000  45211.000000  45211.000000   \n",
       "mean      40.936210    1362.272058     15.806419    258.163080      2.763841   \n",
       "std       10.618762    3044.765829      8.322476    257.527812      3.098021   \n",
       "min       18.000000   -8019.000000      1.000000      0.000000      1.000000   \n",
       "25%       33.000000      72.000000      8.000000    103.000000      1.000000   \n",
       "50%       39.000000     448.000000     16.000000    180.000000      2.000000   \n",
       "75%       48.000000    1428.000000     21.000000    319.000000      3.000000   \n",
       "max       95.000000  102127.000000     31.000000   4918.000000     63.000000   \n",
       "\n",
       "              pdays      previous  \n",
       "count  45211.000000  45211.000000  \n",
       "mean      40.197828      0.580323  \n",
       "std      100.128746      2.303441  \n",
       "min       -1.000000      0.000000  \n",
       "25%       -1.000000      0.000000  \n",
       "50%       -1.000000      0.000000  \n",
       "75%       -1.000000      0.000000  \n",
       "max      871.000000    275.000000  "
      ]
     },
     "execution_count": 10,
     "metadata": {},
     "output_type": "execute_result"
    }
   ],
   "source": [
    "df.describe()"
   ]
  },
  {
   "cell_type": "code",
   "execution_count": 11,
   "metadata": {},
   "outputs": [
    {
     "name": "stdout",
     "output_type": "stream",
     "text": [
      "age          0\n",
      "job          0\n",
      "marital      0\n",
      "education    0\n",
      "default      0\n",
      "balance      0\n",
      "housing      0\n",
      "loan         0\n",
      "contact      0\n",
      "day          0\n",
      "month        0\n",
      "duration     0\n",
      "campaign     0\n",
      "pdays        0\n",
      "previous     0\n",
      "poutcome     0\n",
      "deposit      0\n",
      "dtype: int64 \n",
      "\n"
     ]
    }
   ],
   "source": [
    "# Mengecek missing value\n",
    "print(df.isnull().sum(), \"\\n\")"
   ]
  },
  {
   "cell_type": "markdown",
   "metadata": {},
   "source": [
    "dapat dilihat dataset tidak terdapat missing value"
   ]
  },
  {
   "cell_type": "code",
   "execution_count": 12,
   "metadata": {},
   "outputs": [
    {
     "name": "stderr",
     "output_type": "stream",
     "text": [
      "c:\\users\\acer\\appdata\\local\\programs\\python\\python37\\lib\\site-packages\\sklearn\\preprocessing\\data.py:645: DataConversionWarning: Data with input dtype int64 were all converted to float64 by StandardScaler.\n",
      "  return self.partial_fit(X, y)\n",
      "c:\\users\\acer\\appdata\\local\\programs\\python\\python37\\lib\\site-packages\\sklearn\\base.py:464: DataConversionWarning: Data with input dtype int64 were all converted to float64 by StandardScaler.\n",
      "  return self.fit(X, **fit_params).transform(X)\n"
     ]
    },
    {
     "data": {
      "text/html": [
       "<div>\n",
       "<style scoped>\n",
       "    .dataframe tbody tr th:only-of-type {\n",
       "        vertical-align: middle;\n",
       "    }\n",
       "\n",
       "    .dataframe tbody tr th {\n",
       "        vertical-align: top;\n",
       "    }\n",
       "\n",
       "    .dataframe thead th {\n",
       "        text-align: right;\n",
       "    }\n",
       "</style>\n",
       "<table border=\"1\" class=\"dataframe\">\n",
       "  <thead>\n",
       "    <tr style=\"text-align: right;\">\n",
       "      <th></th>\n",
       "      <th>age</th>\n",
       "      <th>job</th>\n",
       "      <th>marital</th>\n",
       "      <th>education</th>\n",
       "      <th>default</th>\n",
       "      <th>balance</th>\n",
       "      <th>housing</th>\n",
       "      <th>loan</th>\n",
       "      <th>contact</th>\n",
       "      <th>day</th>\n",
       "      <th>month</th>\n",
       "      <th>duration</th>\n",
       "      <th>campaign</th>\n",
       "      <th>pdays</th>\n",
       "      <th>previous</th>\n",
       "      <th>poutcome</th>\n",
       "      <th>deposit</th>\n",
       "    </tr>\n",
       "  </thead>\n",
       "  <tbody>\n",
       "    <tr>\n",
       "      <th>0</th>\n",
       "      <td>1.606965</td>\n",
       "      <td>management</td>\n",
       "      <td>married</td>\n",
       "      <td>tertiary</td>\n",
       "      <td>no</td>\n",
       "      <td>0.256419</td>\n",
       "      <td>yes</td>\n",
       "      <td>no</td>\n",
       "      <td>unknown</td>\n",
       "      <td>-1.298476</td>\n",
       "      <td>may</td>\n",
       "      <td>261</td>\n",
       "      <td>-0.569351</td>\n",
       "      <td>-0.411453</td>\n",
       "      <td>-0.25194</td>\n",
       "      <td>unknown</td>\n",
       "      <td>no</td>\n",
       "    </tr>\n",
       "    <tr>\n",
       "      <th>1</th>\n",
       "      <td>0.288529</td>\n",
       "      <td>technician</td>\n",
       "      <td>single</td>\n",
       "      <td>secondary</td>\n",
       "      <td>no</td>\n",
       "      <td>-0.437895</td>\n",
       "      <td>yes</td>\n",
       "      <td>no</td>\n",
       "      <td>unknown</td>\n",
       "      <td>-1.298476</td>\n",
       "      <td>may</td>\n",
       "      <td>151</td>\n",
       "      <td>-0.569351</td>\n",
       "      <td>-0.411453</td>\n",
       "      <td>-0.25194</td>\n",
       "      <td>unknown</td>\n",
       "      <td>no</td>\n",
       "    </tr>\n",
       "    <tr>\n",
       "      <th>2</th>\n",
       "      <td>-0.747384</td>\n",
       "      <td>entrepreneur</td>\n",
       "      <td>married</td>\n",
       "      <td>secondary</td>\n",
       "      <td>no</td>\n",
       "      <td>-0.446762</td>\n",
       "      <td>yes</td>\n",
       "      <td>yes</td>\n",
       "      <td>unknown</td>\n",
       "      <td>-1.298476</td>\n",
       "      <td>may</td>\n",
       "      <td>76</td>\n",
       "      <td>-0.569351</td>\n",
       "      <td>-0.411453</td>\n",
       "      <td>-0.25194</td>\n",
       "      <td>unknown</td>\n",
       "      <td>no</td>\n",
       "    </tr>\n",
       "    <tr>\n",
       "      <th>3</th>\n",
       "      <td>0.571051</td>\n",
       "      <td>blue-collar</td>\n",
       "      <td>married</td>\n",
       "      <td>unknown</td>\n",
       "      <td>no</td>\n",
       "      <td>0.047205</td>\n",
       "      <td>yes</td>\n",
       "      <td>no</td>\n",
       "      <td>unknown</td>\n",
       "      <td>-1.298476</td>\n",
       "      <td>may</td>\n",
       "      <td>92</td>\n",
       "      <td>-0.569351</td>\n",
       "      <td>-0.411453</td>\n",
       "      <td>-0.25194</td>\n",
       "      <td>unknown</td>\n",
       "      <td>no</td>\n",
       "    </tr>\n",
       "    <tr>\n",
       "      <th>4</th>\n",
       "      <td>-0.747384</td>\n",
       "      <td>unknown</td>\n",
       "      <td>single</td>\n",
       "      <td>unknown</td>\n",
       "      <td>no</td>\n",
       "      <td>-0.447091</td>\n",
       "      <td>no</td>\n",
       "      <td>no</td>\n",
       "      <td>unknown</td>\n",
       "      <td>-1.298476</td>\n",
       "      <td>may</td>\n",
       "      <td>198</td>\n",
       "      <td>-0.569351</td>\n",
       "      <td>-0.411453</td>\n",
       "      <td>-0.25194</td>\n",
       "      <td>unknown</td>\n",
       "      <td>no</td>\n",
       "    </tr>\n",
       "  </tbody>\n",
       "</table>\n",
       "</div>"
      ],
      "text/plain": [
       "        age           job  marital  education default   balance housing loan  \\\n",
       "0  1.606965    management  married   tertiary      no  0.256419     yes   no   \n",
       "1  0.288529    technician   single  secondary      no -0.437895     yes   no   \n",
       "2 -0.747384  entrepreneur  married  secondary      no -0.446762     yes  yes   \n",
       "3  0.571051   blue-collar  married    unknown      no  0.047205     yes   no   \n",
       "4 -0.747384       unknown   single    unknown      no -0.447091      no   no   \n",
       "\n",
       "   contact       day month  duration  campaign     pdays  previous poutcome  \\\n",
       "0  unknown -1.298476   may       261 -0.569351 -0.411453  -0.25194  unknown   \n",
       "1  unknown -1.298476   may       151 -0.569351 -0.411453  -0.25194  unknown   \n",
       "2  unknown -1.298476   may        76 -0.569351 -0.411453  -0.25194  unknown   \n",
       "3  unknown -1.298476   may        92 -0.569351 -0.411453  -0.25194  unknown   \n",
       "4  unknown -1.298476   may       198 -0.569351 -0.411453  -0.25194  unknown   \n",
       "\n",
       "  deposit  \n",
       "0      no  \n",
       "1      no  \n",
       "2      no  \n",
       "3      no  \n",
       "4      no  "
      ]
     },
     "execution_count": 12,
     "metadata": {},
     "output_type": "execute_result"
    }
   ],
   "source": [
    "# Melakukan Scaler data pada kolom 'age', 'balance', 'day', 'campaign', 'pdays', 'previous'\n",
    "\n",
    "# import function\n",
    "from sklearn.preprocessing import StandardScaler\n",
    "\n",
    "# copy df\n",
    "df_new = df.copy()\n",
    "\n",
    "# scaler numeric coloumns\n",
    "num_cols = ['age', 'balance', 'day', 'campaign', 'pdays', 'previous']\n",
    "df_new[num_cols] = StandardScaler().fit_transform(df_new[num_cols])\n",
    "\n",
    "df_new.head()"
   ]
  },
  {
   "cell_type": "markdown",
   "metadata": {},
   "source": [
    "tujuan dari dilakukan scaler ini yaitu untuk menghindari terjadinya ouliers dalam pembuatan model nantinya"
   ]
  },
  {
   "cell_type": "code",
   "execution_count": 13,
   "metadata": {},
   "outputs": [
    {
     "data": {
      "text/html": [
       "<div>\n",
       "<style scoped>\n",
       "    .dataframe tbody tr th:only-of-type {\n",
       "        vertical-align: middle;\n",
       "    }\n",
       "\n",
       "    .dataframe tbody tr th {\n",
       "        vertical-align: top;\n",
       "    }\n",
       "\n",
       "    .dataframe thead th {\n",
       "        text-align: right;\n",
       "    }\n",
       "</style>\n",
       "<table border=\"1\" class=\"dataframe\">\n",
       "  <thead>\n",
       "    <tr style=\"text-align: right;\">\n",
       "      <th></th>\n",
       "      <th>age</th>\n",
       "      <th>job</th>\n",
       "      <th>marital</th>\n",
       "      <th>education</th>\n",
       "      <th>default</th>\n",
       "      <th>balance</th>\n",
       "      <th>housing</th>\n",
       "      <th>loan</th>\n",
       "      <th>contact</th>\n",
       "      <th>day</th>\n",
       "      <th>month</th>\n",
       "      <th>duration</th>\n",
       "      <th>campaign</th>\n",
       "      <th>pdays</th>\n",
       "      <th>previous</th>\n",
       "      <th>poutcome</th>\n",
       "      <th>deposit</th>\n",
       "    </tr>\n",
       "  </thead>\n",
       "  <tbody>\n",
       "    <tr>\n",
       "      <th>0</th>\n",
       "      <td>1.606965</td>\n",
       "      <td>4</td>\n",
       "      <td>1</td>\n",
       "      <td>2</td>\n",
       "      <td>0</td>\n",
       "      <td>0.256419</td>\n",
       "      <td>1</td>\n",
       "      <td>0</td>\n",
       "      <td>2</td>\n",
       "      <td>-1.298476</td>\n",
       "      <td>8</td>\n",
       "      <td>261</td>\n",
       "      <td>-0.569351</td>\n",
       "      <td>-0.411453</td>\n",
       "      <td>-0.251940</td>\n",
       "      <td>3</td>\n",
       "      <td>0</td>\n",
       "    </tr>\n",
       "    <tr>\n",
       "      <th>1</th>\n",
       "      <td>0.288529</td>\n",
       "      <td>9</td>\n",
       "      <td>2</td>\n",
       "      <td>1</td>\n",
       "      <td>0</td>\n",
       "      <td>-0.437895</td>\n",
       "      <td>1</td>\n",
       "      <td>0</td>\n",
       "      <td>2</td>\n",
       "      <td>-1.298476</td>\n",
       "      <td>8</td>\n",
       "      <td>151</td>\n",
       "      <td>-0.569351</td>\n",
       "      <td>-0.411453</td>\n",
       "      <td>-0.251940</td>\n",
       "      <td>3</td>\n",
       "      <td>0</td>\n",
       "    </tr>\n",
       "    <tr>\n",
       "      <th>2</th>\n",
       "      <td>-0.747384</td>\n",
       "      <td>2</td>\n",
       "      <td>1</td>\n",
       "      <td>1</td>\n",
       "      <td>0</td>\n",
       "      <td>-0.446762</td>\n",
       "      <td>1</td>\n",
       "      <td>1</td>\n",
       "      <td>2</td>\n",
       "      <td>-1.298476</td>\n",
       "      <td>8</td>\n",
       "      <td>76</td>\n",
       "      <td>-0.569351</td>\n",
       "      <td>-0.411453</td>\n",
       "      <td>-0.251940</td>\n",
       "      <td>3</td>\n",
       "      <td>0</td>\n",
       "    </tr>\n",
       "    <tr>\n",
       "      <th>3</th>\n",
       "      <td>0.571051</td>\n",
       "      <td>1</td>\n",
       "      <td>1</td>\n",
       "      <td>3</td>\n",
       "      <td>0</td>\n",
       "      <td>0.047205</td>\n",
       "      <td>1</td>\n",
       "      <td>0</td>\n",
       "      <td>2</td>\n",
       "      <td>-1.298476</td>\n",
       "      <td>8</td>\n",
       "      <td>92</td>\n",
       "      <td>-0.569351</td>\n",
       "      <td>-0.411453</td>\n",
       "      <td>-0.251940</td>\n",
       "      <td>3</td>\n",
       "      <td>0</td>\n",
       "    </tr>\n",
       "    <tr>\n",
       "      <th>4</th>\n",
       "      <td>-0.747384</td>\n",
       "      <td>11</td>\n",
       "      <td>2</td>\n",
       "      <td>3</td>\n",
       "      <td>0</td>\n",
       "      <td>-0.447091</td>\n",
       "      <td>0</td>\n",
       "      <td>0</td>\n",
       "      <td>2</td>\n",
       "      <td>-1.298476</td>\n",
       "      <td>8</td>\n",
       "      <td>198</td>\n",
       "      <td>-0.569351</td>\n",
       "      <td>-0.411453</td>\n",
       "      <td>-0.251940</td>\n",
       "      <td>3</td>\n",
       "      <td>0</td>\n",
       "    </tr>\n",
       "    <tr>\n",
       "      <th>...</th>\n",
       "      <td>...</td>\n",
       "      <td>...</td>\n",
       "      <td>...</td>\n",
       "      <td>...</td>\n",
       "      <td>...</td>\n",
       "      <td>...</td>\n",
       "      <td>...</td>\n",
       "      <td>...</td>\n",
       "      <td>...</td>\n",
       "      <td>...</td>\n",
       "      <td>...</td>\n",
       "      <td>...</td>\n",
       "      <td>...</td>\n",
       "      <td>...</td>\n",
       "      <td>...</td>\n",
       "      <td>...</td>\n",
       "      <td>...</td>\n",
       "    </tr>\n",
       "    <tr>\n",
       "      <th>45206</th>\n",
       "      <td>0.947747</td>\n",
       "      <td>9</td>\n",
       "      <td>1</td>\n",
       "      <td>2</td>\n",
       "      <td>0</td>\n",
       "      <td>-0.176460</td>\n",
       "      <td>0</td>\n",
       "      <td>0</td>\n",
       "      <td>0</td>\n",
       "      <td>0.143418</td>\n",
       "      <td>9</td>\n",
       "      <td>977</td>\n",
       "      <td>0.076230</td>\n",
       "      <td>-0.411453</td>\n",
       "      <td>-0.251940</td>\n",
       "      <td>3</td>\n",
       "      <td>1</td>\n",
       "    </tr>\n",
       "    <tr>\n",
       "      <th>45207</th>\n",
       "      <td>2.831227</td>\n",
       "      <td>5</td>\n",
       "      <td>0</td>\n",
       "      <td>0</td>\n",
       "      <td>0</td>\n",
       "      <td>0.120447</td>\n",
       "      <td>0</td>\n",
       "      <td>0</td>\n",
       "      <td>0</td>\n",
       "      <td>0.143418</td>\n",
       "      <td>9</td>\n",
       "      <td>456</td>\n",
       "      <td>-0.246560</td>\n",
       "      <td>-0.411453</td>\n",
       "      <td>-0.251940</td>\n",
       "      <td>3</td>\n",
       "      <td>1</td>\n",
       "    </tr>\n",
       "    <tr>\n",
       "      <th>45208</th>\n",
       "      <td>2.925401</td>\n",
       "      <td>5</td>\n",
       "      <td>1</td>\n",
       "      <td>1</td>\n",
       "      <td>0</td>\n",
       "      <td>1.429593</td>\n",
       "      <td>0</td>\n",
       "      <td>0</td>\n",
       "      <td>0</td>\n",
       "      <td>0.143418</td>\n",
       "      <td>9</td>\n",
       "      <td>1127</td>\n",
       "      <td>0.721811</td>\n",
       "      <td>1.436189</td>\n",
       "      <td>1.050473</td>\n",
       "      <td>2</td>\n",
       "      <td>1</td>\n",
       "    </tr>\n",
       "    <tr>\n",
       "      <th>45209</th>\n",
       "      <td>1.512791</td>\n",
       "      <td>1</td>\n",
       "      <td>1</td>\n",
       "      <td>1</td>\n",
       "      <td>0</td>\n",
       "      <td>-0.228024</td>\n",
       "      <td>0</td>\n",
       "      <td>0</td>\n",
       "      <td>1</td>\n",
       "      <td>0.143418</td>\n",
       "      <td>9</td>\n",
       "      <td>508</td>\n",
       "      <td>0.399020</td>\n",
       "      <td>-0.411453</td>\n",
       "      <td>-0.251940</td>\n",
       "      <td>3</td>\n",
       "      <td>0</td>\n",
       "    </tr>\n",
       "    <tr>\n",
       "      <th>45210</th>\n",
       "      <td>-0.370689</td>\n",
       "      <td>2</td>\n",
       "      <td>1</td>\n",
       "      <td>1</td>\n",
       "      <td>0</td>\n",
       "      <td>0.528364</td>\n",
       "      <td>0</td>\n",
       "      <td>0</td>\n",
       "      <td>0</td>\n",
       "      <td>0.143418</td>\n",
       "      <td>9</td>\n",
       "      <td>361</td>\n",
       "      <td>-0.246560</td>\n",
       "      <td>1.476138</td>\n",
       "      <td>4.523577</td>\n",
       "      <td>1</td>\n",
       "      <td>0</td>\n",
       "    </tr>\n",
       "  </tbody>\n",
       "</table>\n",
       "<p>45211 rows × 17 columns</p>\n",
       "</div>"
      ],
      "text/plain": [
       "            age  job  marital  education  default   balance  housing  loan  \\\n",
       "0      1.606965    4        1          2        0  0.256419        1     0   \n",
       "1      0.288529    9        2          1        0 -0.437895        1     0   \n",
       "2     -0.747384    2        1          1        0 -0.446762        1     1   \n",
       "3      0.571051    1        1          3        0  0.047205        1     0   \n",
       "4     -0.747384   11        2          3        0 -0.447091        0     0   \n",
       "...         ...  ...      ...        ...      ...       ...      ...   ...   \n",
       "45206  0.947747    9        1          2        0 -0.176460        0     0   \n",
       "45207  2.831227    5        0          0        0  0.120447        0     0   \n",
       "45208  2.925401    5        1          1        0  1.429593        0     0   \n",
       "45209  1.512791    1        1          1        0 -0.228024        0     0   \n",
       "45210 -0.370689    2        1          1        0  0.528364        0     0   \n",
       "\n",
       "       contact       day  month  duration  campaign     pdays  previous  \\\n",
       "0            2 -1.298476      8       261 -0.569351 -0.411453 -0.251940   \n",
       "1            2 -1.298476      8       151 -0.569351 -0.411453 -0.251940   \n",
       "2            2 -1.298476      8        76 -0.569351 -0.411453 -0.251940   \n",
       "3            2 -1.298476      8        92 -0.569351 -0.411453 -0.251940   \n",
       "4            2 -1.298476      8       198 -0.569351 -0.411453 -0.251940   \n",
       "...        ...       ...    ...       ...       ...       ...       ...   \n",
       "45206        0  0.143418      9       977  0.076230 -0.411453 -0.251940   \n",
       "45207        0  0.143418      9       456 -0.246560 -0.411453 -0.251940   \n",
       "45208        0  0.143418      9      1127  0.721811  1.436189  1.050473   \n",
       "45209        1  0.143418      9       508  0.399020 -0.411453 -0.251940   \n",
       "45210        0  0.143418      9       361 -0.246560  1.476138  4.523577   \n",
       "\n",
       "       poutcome  deposit  \n",
       "0             3        0  \n",
       "1             3        0  \n",
       "2             3        0  \n",
       "3             3        0  \n",
       "4             3        0  \n",
       "...         ...      ...  \n",
       "45206         3        1  \n",
       "45207         3        1  \n",
       "45208         2        1  \n",
       "45209         3        0  \n",
       "45210         1        0  \n",
       "\n",
       "[45211 rows x 17 columns]"
      ]
     },
     "execution_count": 13,
     "metadata": {},
     "output_type": "execute_result"
    }
   ],
   "source": [
    "# Melakukan encoder pada categorical columns\n",
    "# kolom 'job', 'marital', 'education', 'default', 'housing', 'loan', 'contact', 'month', 'poutcome', 'deposit'\n",
    "from sklearn.preprocessing import LabelEncoder\n",
    "\n",
    "encode = LabelEncoder()\n",
    "df_new['job'] = encode.fit_transform(df_new['job'])\n",
    "df_new['marital'] = encode.fit_transform(df_new['marital'])\n",
    "df_new['education'] = encode.fit_transform(df_new['education'])\n",
    "df_new['default'] = encode.fit_transform(df_new['default'])\n",
    "df_new['housing'] = encode.fit_transform(df_new['housing'])\n",
    "df_new['loan'] = encode.fit_transform(df_new['loan'])\n",
    "df_new['contact'] = encode.fit_transform(df_new['contact'])\n",
    "df_new['month'] = encode.fit_transform(df_new['month'])\n",
    "df_new['poutcome'] = encode.fit_transform(df_new['poutcome'])\n",
    "df_new['deposit'] = encode.fit_transform(df_new['deposit'])\n",
    "\n",
    "df_new"
   ]
  },
  {
   "cell_type": "markdown",
   "metadata": {},
   "source": [
    "**Kesimpulan**: pada tahap preprocessing ini saya melakukan load data dan mencari informasi seputar data, kemudian mengubah nama kolom y menjadi kolom deposit, kemudian saya juga melakukan pengecekan missing value dan dilanjut dengan melakukan scaling data agar menghindari terjadinya outliers. Dan terakhir melakukan enccoder data pada kolom yang bernilai kategorical.\n",
    "\n",
    "## 2. Visualization Data\n",
    "melakukan visualisasi sederhana pada data\n",
    "\n",
    "**1. visualisasi bar chart berdasarkan kolom education dengan melihat banyaknya data di kolom deposit**"
   ]
  },
  {
   "cell_type": "code",
   "execution_count": 14,
   "metadata": {},
   "outputs": [],
   "source": [
    "# menggunakan inline backend\n",
    "%matplotlib inline\n",
    "\n",
    "import matplotlib as mpl\n",
    "import matplotlib.pyplot as plt"
   ]
  },
  {
   "cell_type": "code",
   "execution_count": 15,
   "metadata": {},
   "outputs": [],
   "source": [
    "# apply a style to matplotlib\n",
    "mpl.style.use(['ggplot'])"
   ]
  },
  {
   "cell_type": "code",
   "execution_count": 16,
   "metadata": {},
   "outputs": [
    {
     "data": {
      "text/html": [
       "<div>\n",
       "<style scoped>\n",
       "    .dataframe tbody tr th:only-of-type {\n",
       "        vertical-align: middle;\n",
       "    }\n",
       "\n",
       "    .dataframe tbody tr th {\n",
       "        vertical-align: top;\n",
       "    }\n",
       "\n",
       "    .dataframe thead th {\n",
       "        text-align: right;\n",
       "    }\n",
       "</style>\n",
       "<table border=\"1\" class=\"dataframe\">\n",
       "  <thead>\n",
       "    <tr style=\"text-align: right;\">\n",
       "      <th></th>\n",
       "      <th>age</th>\n",
       "      <th>job</th>\n",
       "      <th>marital</th>\n",
       "      <th>default</th>\n",
       "      <th>balance</th>\n",
       "      <th>housing</th>\n",
       "      <th>loan</th>\n",
       "      <th>contact</th>\n",
       "      <th>day</th>\n",
       "      <th>month</th>\n",
       "      <th>duration</th>\n",
       "      <th>campaign</th>\n",
       "      <th>pdays</th>\n",
       "      <th>previous</th>\n",
       "      <th>poutcome</th>\n",
       "      <th>deposit</th>\n",
       "    </tr>\n",
       "    <tr>\n",
       "      <th>education</th>\n",
       "      <th></th>\n",
       "      <th></th>\n",
       "      <th></th>\n",
       "      <th></th>\n",
       "      <th></th>\n",
       "      <th></th>\n",
       "      <th></th>\n",
       "      <th></th>\n",
       "      <th></th>\n",
       "      <th></th>\n",
       "      <th></th>\n",
       "      <th></th>\n",
       "      <th></th>\n",
       "      <th></th>\n",
       "      <th></th>\n",
       "      <th></th>\n",
       "    </tr>\n",
       "  </thead>\n",
       "  <tbody>\n",
       "    <tr>\n",
       "      <th>0</th>\n",
       "      <td>3180.351644</td>\n",
       "      <td>19256</td>\n",
       "      <td>6952</td>\n",
       "      <td>127</td>\n",
       "      <td>-250.487671</td>\n",
       "      <td>3894</td>\n",
       "      <td>1024</td>\n",
       "      <td>5844</td>\n",
       "      <td>-316.949459</td>\n",
       "      <td>39492</td>\n",
       "      <td>1753397</td>\n",
       "      <td>155.884356</td>\n",
       "      <td>-281.633720</td>\n",
       "      <td>-270.813237</td>\n",
       "      <td>18003</td>\n",
       "      <td>591</td>\n",
       "    </tr>\n",
       "    <tr>\n",
       "      <th>1</th>\n",
       "      <td>-2123.712605</td>\n",
       "      <td>103891</td>\n",
       "      <td>27004</td>\n",
       "      <td>458</td>\n",
       "      <td>-1580.399206</td>\n",
       "      <td>14038</td>\n",
       "      <td>4303</td>\n",
       "      <td>15663</td>\n",
       "      <td>-131.756573</td>\n",
       "      <td>131078</td>\n",
       "      <td>6002027</td>\n",
       "      <td>-472.123069</td>\n",
       "      <td>499.522373</td>\n",
       "      <td>-126.621916</td>\n",
       "      <td>59190</td>\n",
       "      <td>2450</td>\n",
       "    </tr>\n",
       "    <tr>\n",
       "      <th>2</th>\n",
       "      <td>-1681.714826</td>\n",
       "      <td>64301</td>\n",
       "      <td>16622</td>\n",
       "      <td>198</td>\n",
       "      <td>1730.568106</td>\n",
       "      <td>6378</td>\n",
       "      <td>1784</td>\n",
       "      <td>5895</td>\n",
       "      <td>447.687057</td>\n",
       "      <td>68461</td>\n",
       "      <td>3438555</td>\n",
       "      <td>265.060991</td>\n",
       "      <td>-155.914091</td>\n",
       "      <td>471.525345</td>\n",
       "      <td>33717</td>\n",
       "      <td>1996</td>\n",
       "    </tr>\n",
       "    <tr>\n",
       "      <th>3</th>\n",
       "      <td>625.075787</td>\n",
       "      <td>8757</td>\n",
       "      <td>2216</td>\n",
       "      <td>32</td>\n",
       "      <td>100.318771</td>\n",
       "      <td>820</td>\n",
       "      <td>133</td>\n",
       "      <td>1544</td>\n",
       "      <td>1.018975</td>\n",
       "      <td>10670</td>\n",
       "      <td>477832</td>\n",
       "      <td>51.177722</td>\n",
       "      <td>-61.974562</td>\n",
       "      <td>-74.090192</td>\n",
       "      <td>4829</td>\n",
       "      <td>252</td>\n",
       "    </tr>\n",
       "  </tbody>\n",
       "</table>\n",
       "</div>"
      ],
      "text/plain": [
       "                   age     job  marital  default      balance  housing  loan  \\\n",
       "education                                                                      \n",
       "0          3180.351644   19256     6952      127  -250.487671     3894  1024   \n",
       "1         -2123.712605  103891    27004      458 -1580.399206    14038  4303   \n",
       "2         -1681.714826   64301    16622      198  1730.568106     6378  1784   \n",
       "3           625.075787    8757     2216       32   100.318771      820   133   \n",
       "\n",
       "           contact         day   month  duration    campaign       pdays  \\\n",
       "education                                                                  \n",
       "0             5844 -316.949459   39492   1753397  155.884356 -281.633720   \n",
       "1            15663 -131.756573  131078   6002027 -472.123069  499.522373   \n",
       "2             5895  447.687057   68461   3438555  265.060991 -155.914091   \n",
       "3             1544    1.018975   10670    477832   51.177722  -61.974562   \n",
       "\n",
       "             previous  poutcome  deposit  \n",
       "education                                 \n",
       "0         -270.813237     18003      591  \n",
       "1         -126.621916     59190     2450  \n",
       "2          471.525345     33717     1996  \n",
       "3          -74.090192      4829      252  "
      ]
     },
     "execution_count": 16,
     "metadata": {},
     "output_type": "execute_result"
    }
   ],
   "source": [
    "#groupby dataframe berdasarkan major_category\n",
    "df_edu = df_new.groupby('education', axis=0).sum()\n",
    "\n",
    "df_edu"
   ]
  },
  {
   "cell_type": "code",
   "execution_count": 17,
   "metadata": {},
   "outputs": [
    {
     "data": {
      "image/png": "[encoded data removed]",
      "text/plain": [
       "<Figure size 1008x576 with 1 Axes>"
      ]
     },
     "metadata": {},
     "output_type": "display_data"
    }
   ],
   "source": [
    "df_edu['deposit'].plot(kind=\"barh\",figsize =(14,8)) #Generate plot\n",
    "\n",
    "plt.title('Bar Chart Education based Deposit') # add title to the plot\n",
    "plt.ylabel('Education') # add to x-label to the plot\n",
    "plt.xlabel('Deposit') # add y-label to the plot\n",
    "\n",
    "plt.show()"
   ]
  },
  {
   "cell_type": "code",
   "execution_count": 86,
   "metadata": {},
   "outputs": [
    {
     "name": "stderr",
     "output_type": "stream",
     "text": [
      "c:\\users\\acer\\appdata\\local\\programs\\python\\python37\\lib\\site-packages\\seaborn\\_decorators.py:43: FutureWarning: Pass the following variable as a keyword arg: x. From version 0.12, the only valid positional argument will be `data`, and passing other arguments without an explicit keyword will result in an error or misinterpretation.\n",
      "  FutureWarning\n"
     ]
    },
    {
     "data": {
      "image/png": "[encoded data removed]",
      "text/plain": [
       "<Figure size 432x288 with 1 Axes>"
      ]
     },
     "metadata": {},
     "output_type": "display_data"
    }
   ],
   "source": [
    "sns.countplot('education', hue='deposit', data=df_new)\n",
    "plt.show()"
   ]
  },
  {
   "cell_type": "markdown",
   "metadata": {},
   "source": [
    "**Kesimpulan:** Jadi banyaknya client dengan education kode 0 (primary) di deposit ada 591, banyaknya client dengan education kode 1 (secondary) di deposit ada 2450, banyaknya client dengan education kode 2 (tertiary) di deposit ada 1996, banyaknya client dengan education kode 3 (unknown) di deposit ada 252. Dan dapat dilihat jadi yang paling banyak adalah dengan education kode 1 (secondary)\n",
    "\n",
    "**2. visualisasi pie chart kolom job berdasarkan kolom deposit**"
   ]
  },
  {
   "cell_type": "code",
   "execution_count": 18,
   "metadata": {},
   "outputs": [
    {
     "data": {
      "text/html": [
       "<div>\n",
       "<style scoped>\n",
       "    .dataframe tbody tr th:only-of-type {\n",
       "        vertical-align: middle;\n",
       "    }\n",
       "\n",
       "    .dataframe tbody tr th {\n",
       "        vertical-align: top;\n",
       "    }\n",
       "\n",
       "    .dataframe thead th {\n",
       "        text-align: right;\n",
       "    }\n",
       "</style>\n",
       "<table border=\"1\" class=\"dataframe\">\n",
       "  <thead>\n",
       "    <tr style=\"text-align: right;\">\n",
       "      <th></th>\n",
       "      <th>age</th>\n",
       "      <th>balance</th>\n",
       "      <th>day</th>\n",
       "      <th>duration</th>\n",
       "      <th>campaign</th>\n",
       "      <th>pdays</th>\n",
       "      <th>previous</th>\n",
       "    </tr>\n",
       "    <tr>\n",
       "      <th>job</th>\n",
       "      <th></th>\n",
       "      <th></th>\n",
       "      <th></th>\n",
       "      <th></th>\n",
       "      <th></th>\n",
       "      <th></th>\n",
       "      <th></th>\n",
       "    </tr>\n",
       "  </thead>\n",
       "  <tbody>\n",
       "    <tr>\n",
       "      <th>admin.</th>\n",
       "      <td>203168</td>\n",
       "      <td>5873423</td>\n",
       "      <td>80483</td>\n",
       "      <td>1276703</td>\n",
       "      <td>13317</td>\n",
       "      <td>247479</td>\n",
       "      <td>3473</td>\n",
       "    </tr>\n",
       "    <tr>\n",
       "      <th>blue-collar</th>\n",
       "      <td>389709</td>\n",
       "      <td>10499141</td>\n",
       "      <td>150287</td>\n",
       "      <td>2558558</td>\n",
       "      <td>27415</td>\n",
       "      <td>428534</td>\n",
       "      <td>4916</td>\n",
       "    </tr>\n",
       "    <tr>\n",
       "      <th>entrepreneur</th>\n",
       "      <td>62738</td>\n",
       "      <td>2262426</td>\n",
       "      <td>23349</td>\n",
       "      <td>381132</td>\n",
       "      <td>4163</td>\n",
       "      <td>48307</td>\n",
       "      <td>711</td>\n",
       "    </tr>\n",
       "    <tr>\n",
       "      <th>housemaid</th>\n",
       "      <td>57555</td>\n",
       "      <td>1726570</td>\n",
       "      <td>19843</td>\n",
       "      <td>304823</td>\n",
       "      <td>3498</td>\n",
       "      <td>26667</td>\n",
       "      <td>461</td>\n",
       "    </tr>\n",
       "    <tr>\n",
       "      <th>management</th>\n",
       "      <td>382572</td>\n",
       "      <td>16680288</td>\n",
       "      <td>152408</td>\n",
       "      <td>2402292</td>\n",
       "      <td>27091</td>\n",
       "      <td>365698</td>\n",
       "      <td>6318</td>\n",
       "    </tr>\n",
       "    <tr>\n",
       "      <th>retired</th>\n",
       "      <td>139523</td>\n",
       "      <td>4492263</td>\n",
       "      <td>34955</td>\n",
       "      <td>650586</td>\n",
       "      <td>5313</td>\n",
       "      <td>84773</td>\n",
       "      <td>1446</td>\n",
       "    </tr>\n",
       "    <tr>\n",
       "      <th>self-employed</th>\n",
       "      <td>63925</td>\n",
       "      <td>2602146</td>\n",
       "      <td>25308</td>\n",
       "      <td>423420</td>\n",
       "      <td>4505</td>\n",
       "      <td>54866</td>\n",
       "      <td>871</td>\n",
       "    </tr>\n",
       "    <tr>\n",
       "      <th>services</th>\n",
       "      <td>160927</td>\n",
       "      <td>4141904</td>\n",
       "      <td>64950</td>\n",
       "      <td>1077210</td>\n",
       "      <td>11292</td>\n",
       "      <td>174448</td>\n",
       "      <td>2082</td>\n",
       "    </tr>\n",
       "    <tr>\n",
       "      <th>student</th>\n",
       "      <td>24897</td>\n",
       "      <td>1302001</td>\n",
       "      <td>13974</td>\n",
       "      <td>231364</td>\n",
       "      <td>2157</td>\n",
       "      <td>53505</td>\n",
       "      <td>894</td>\n",
       "    </tr>\n",
       "    <tr>\n",
       "      <th>technician</th>\n",
       "      <td>298673</td>\n",
       "      <td>9516246</td>\n",
       "      <td>124656</td>\n",
       "      <td>1921319</td>\n",
       "      <td>22083</td>\n",
       "      <td>282571</td>\n",
       "      <td>4365</td>\n",
       "    </tr>\n",
       "    <tr>\n",
       "      <th>unemployed</th>\n",
       "      <td>53373</td>\n",
       "      <td>1982835</td>\n",
       "      <td>20194</td>\n",
       "      <td>375972</td>\n",
       "      <td>3169</td>\n",
       "      <td>44493</td>\n",
       "      <td>608</td>\n",
       "    </tr>\n",
       "    <tr>\n",
       "      <th>unknown</th>\n",
       "      <td>13707</td>\n",
       "      <td>510439</td>\n",
       "      <td>4217</td>\n",
       "      <td>68432</td>\n",
       "      <td>953</td>\n",
       "      <td>6043</td>\n",
       "      <td>92</td>\n",
       "    </tr>\n",
       "  </tbody>\n",
       "</table>\n",
       "</div>"
      ],
      "text/plain": [
       "                  age   balance     day  duration  campaign   pdays  previous\n",
       "job                                                                          \n",
       "admin.         203168   5873423   80483   1276703     13317  247479      3473\n",
       "blue-collar    389709  10499141  150287   2558558     27415  428534      4916\n",
       "entrepreneur    62738   2262426   23349    381132      4163   48307       711\n",
       "housemaid       57555   1726570   19843    304823      3498   26667       461\n",
       "management     382572  16680288  152408   2402292     27091  365698      6318\n",
       "retired        139523   4492263   34955    650586      5313   84773      1446\n",
       "self-employed   63925   2602146   25308    423420      4505   54866       871\n",
       "services       160927   4141904   64950   1077210     11292  174448      2082\n",
       "student         24897   1302001   13974    231364      2157   53505       894\n",
       "technician     298673   9516246  124656   1921319     22083  282571      4365\n",
       "unemployed      53373   1982835   20194    375972      3169   44493       608\n",
       "unknown         13707    510439    4217     68432       953    6043        92"
      ]
     },
     "execution_count": 18,
     "metadata": {},
     "output_type": "execute_result"
    }
   ],
   "source": [
    "pd.DataFrame(df.groupby(['job'], axis=0).sum())"
   ]
  },
  {
   "cell_type": "code",
   "execution_count": 19,
   "metadata": {},
   "outputs": [
    {
     "data": {
      "text/html": [
       "<div>\n",
       "<style scoped>\n",
       "    .dataframe tbody tr th:only-of-type {\n",
       "        vertical-align: middle;\n",
       "    }\n",
       "\n",
       "    .dataframe tbody tr th {\n",
       "        vertical-align: top;\n",
       "    }\n",
       "\n",
       "    .dataframe thead th {\n",
       "        text-align: right;\n",
       "    }\n",
       "</style>\n",
       "<table border=\"1\" class=\"dataframe\">\n",
       "  <thead>\n",
       "    <tr style=\"text-align: right;\">\n",
       "      <th></th>\n",
       "      <th>job</th>\n",
       "      <th>age</th>\n",
       "      <th>marital</th>\n",
       "      <th>education</th>\n",
       "      <th>default</th>\n",
       "      <th>balance</th>\n",
       "      <th>housing</th>\n",
       "      <th>loan</th>\n",
       "      <th>contact</th>\n",
       "      <th>day</th>\n",
       "      <th>month</th>\n",
       "      <th>duration</th>\n",
       "      <th>campaign</th>\n",
       "      <th>pdays</th>\n",
       "      <th>previous</th>\n",
       "      <th>poutcome</th>\n",
       "      <th>deposit</th>\n",
       "    </tr>\n",
       "  </thead>\n",
       "  <tbody>\n",
       "    <tr>\n",
       "      <th>0</th>\n",
       "      <td>0</td>\n",
       "      <td>-801.716541</td>\n",
       "      <td>6149</td>\n",
       "      <td>5876</td>\n",
       "      <td>74</td>\n",
       "      <td>-384.561186</td>\n",
       "      <td>3182</td>\n",
       "      <td>991</td>\n",
       "      <td>3345</td>\n",
       "      <td>-150.436648</td>\n",
       "      <td>30188</td>\n",
       "      <td>1276703</td>\n",
       "      <td>-314.662445</td>\n",
       "      <td>395.655307</td>\n",
       "      <td>204.977272</td>\n",
       "      <td>12898</td>\n",
       "      <td>631</td>\n",
       "    </tr>\n",
       "    <tr>\n",
       "      <th>1</th>\n",
       "      <td>1</td>\n",
       "      <td>-817.637102</td>\n",
       "      <td>10996</td>\n",
       "      <td>7031</td>\n",
       "      <td>201</td>\n",
       "      <td>-905.987957</td>\n",
       "      <td>7048</td>\n",
       "      <td>1684</td>\n",
       "      <td>8541</td>\n",
       "      <td>-425.487172</td>\n",
       "      <td>58783</td>\n",
       "      <td>2558558</td>\n",
       "      <td>166.980293</td>\n",
       "      <td>372.811531</td>\n",
       "      <td>-317.661768</td>\n",
       "      <td>25042</td>\n",
       "      <td>708</td>\n",
       "    </tr>\n",
       "    <tr>\n",
       "      <th>2</th>\n",
       "      <td>2</td>\n",
       "      <td>175.715026</td>\n",
       "      <td>1546</td>\n",
       "      <td>2142</td>\n",
       "      <td>55</td>\n",
       "      <td>77.749844</td>\n",
       "      <td>869</td>\n",
       "      <td>356</td>\n",
       "      <td>979</td>\n",
       "      <td>-18.641863</td>\n",
       "      <td>9124</td>\n",
       "      <td>381132</td>\n",
       "      <td>17.162418</td>\n",
       "      <td>-114.525523</td>\n",
       "      <td>-65.963284</td>\n",
       "      <td>3869</td>\n",
       "      <td>123</td>\n",
       "    </tr>\n",
       "    <tr>\n",
       "      <th>3</th>\n",
       "      <td>3</td>\n",
       "      <td>639.827359</td>\n",
       "      <td>1200</td>\n",
       "      <td>876</td>\n",
       "      <td>22</td>\n",
       "      <td>12.267959</td>\n",
       "      <td>398</td>\n",
       "      <td>152</td>\n",
       "      <td>833</td>\n",
       "      <td>29.203254</td>\n",
       "      <td>6038</td>\n",
       "      <td>304823</td>\n",
       "      <td>22.865684</td>\n",
       "      <td>-231.487599</td>\n",
       "      <td>-112.268487</td>\n",
       "      <td>3348</td>\n",
       "      <td>109</td>\n",
       "    </tr>\n",
       "    <tr>\n",
       "      <th>4</th>\n",
       "      <td>4</td>\n",
       "      <td>-433.452326</td>\n",
       "      <td>11294</td>\n",
       "      <td>17449</td>\n",
       "      <td>164</td>\n",
       "      <td>1246.716849</td>\n",
       "      <td>4678</td>\n",
       "      <td>1253</td>\n",
       "      <td>4403</td>\n",
       "      <td>349.766488</td>\n",
       "      <td>49055</td>\n",
       "      <td>2402292</td>\n",
       "      <td>306.842853</td>\n",
       "      <td>-144.745817</td>\n",
       "      <td>360.031230</td>\n",
       "      <td>24069</td>\n",
       "      <td>1301</td>\n",
       "    </tr>\n",
       "    <tr>\n",
       "      <th>5</th>\n",
       "      <td>5</td>\n",
       "      <td>4411.431197</td>\n",
       "      <td>1947</td>\n",
       "      <td>2073</td>\n",
       "      <td>26</td>\n",
       "      <td>462.464016</td>\n",
       "      <td>491</td>\n",
       "      <td>309</td>\n",
       "      <td>1383</td>\n",
       "      <td>-99.819010</td>\n",
       "      <td>11780</td>\n",
       "      <td>650586</td>\n",
       "      <td>-304.822249</td>\n",
       "      <td>-62.269345</td>\n",
       "      <td>57.370405</td>\n",
       "      <td>5762</td>\n",
       "      <td>516</td>\n",
       "    </tr>\n",
       "    <tr>\n",
       "      <th>6</th>\n",
       "      <td>6</td>\n",
       "      <td>-67.172031</td>\n",
       "      <td>1885</td>\n",
       "      <td>2360</td>\n",
       "      <td>33</td>\n",
       "      <td>148.163581</td>\n",
       "      <td>765</td>\n",
       "      <td>229</td>\n",
       "      <td>892</td>\n",
       "      <td>42.014971</td>\n",
       "      <td>8823</td>\n",
       "      <td>423420</td>\n",
       "      <td>45.479732</td>\n",
       "      <td>-85.953993</td>\n",
       "      <td>-19.679734</td>\n",
       "      <td>4065</td>\n",
       "      <td>187</td>\n",
       "    </tr>\n",
       "    <tr>\n",
       "      <th>7</th>\n",
       "      <td>7</td>\n",
       "      <td>-859.056647</td>\n",
       "      <td>4803</td>\n",
       "      <td>4311</td>\n",
       "      <td>75</td>\n",
       "      <td>-498.229089</td>\n",
       "      <td>2766</td>\n",
       "      <td>836</td>\n",
       "      <td>3084</td>\n",
       "      <td>-85.295710</td>\n",
       "      <td>24467</td>\n",
       "      <td>1077210</td>\n",
       "      <td>-61.005459</td>\n",
       "      <td>74.567050</td>\n",
       "      <td>-142.685191</td>\n",
       "      <td>10691</td>\n",
       "      <td>369</td>\n",
       "    </tr>\n",
       "    <tr>\n",
       "      <th>8</th>\n",
       "      <td>8</td>\n",
       "      <td>-1271.458428</td>\n",
       "      <td>1810</td>\n",
       "      <td>1443</td>\n",
       "      <td>3</td>\n",
       "      <td>7.944807</td>\n",
       "      <td>249</td>\n",
       "      <td>12</td>\n",
       "      <td>383</td>\n",
       "      <td>-102.425076</td>\n",
       "      <td>5154</td>\n",
       "      <td>231364</td>\n",
       "      <td>-140.569535</td>\n",
       "      <td>157.792969</td>\n",
       "      <td>151.799215</td>\n",
       "      <td>2214</td>\n",
       "      <td>269</td>\n",
       "    </tr>\n",
       "    <tr>\n",
       "      <th>9</th>\n",
       "      <td>9</td>\n",
       "      <td>-1160.165865</td>\n",
       "      <td>9292</td>\n",
       "      <td>9891</td>\n",
       "      <td>130</td>\n",
       "      <td>-273.565877</td>\n",
       "      <td>4115</td>\n",
       "      <td>1309</td>\n",
       "      <td>4111</td>\n",
       "      <td>549.678599</td>\n",
       "      <td>37731</td>\n",
       "      <td>1921319</td>\n",
       "      <td>350.583347</td>\n",
       "      <td>-227.828193</td>\n",
       "      <td>-18.979060</td>\n",
       "      <td>19557</td>\n",
       "      <td>840</td>\n",
       "    </tr>\n",
       "    <tr>\n",
       "      <th>10</th>\n",
       "      <td>10</td>\n",
       "      <td>3.118862</td>\n",
       "      <td>1533</td>\n",
       "      <td>1393</td>\n",
       "      <td>30</td>\n",
       "      <td>68.247221</td>\n",
       "      <td>543</td>\n",
       "      <td>109</td>\n",
       "      <td>724</td>\n",
       "      <td>-48.275071</td>\n",
       "      <td>7095</td>\n",
       "      <td>375972</td>\n",
       "      <td>-139.537200</td>\n",
       "      <td>-78.747187</td>\n",
       "      <td>-64.322459</td>\n",
       "      <td>3435</td>\n",
       "      <td>202</td>\n",
       "    </tr>\n",
       "    <tr>\n",
       "      <th>11</th>\n",
       "      <td>11</td>\n",
       "      <td>180.566497</td>\n",
       "      <td>339</td>\n",
       "      <td>530</td>\n",
       "      <td>2</td>\n",
       "      <td>38.789832</td>\n",
       "      <td>26</td>\n",
       "      <td>4</td>\n",
       "      <td>268</td>\n",
       "      <td>-40.282761</td>\n",
       "      <td>1463</td>\n",
       "      <td>68432</td>\n",
       "      <td>50.682559</td>\n",
       "      <td>-55.269200</td>\n",
       "      <td>-32.618140</td>\n",
       "      <td>789</td>\n",
       "      <td>34</td>\n",
       "    </tr>\n",
       "  </tbody>\n",
       "</table>\n",
       "</div>"
      ],
      "text/plain": [
       "    job          age  marital  education  default      balance  housing  loan  \\\n",
       "0     0  -801.716541     6149       5876       74  -384.561186     3182   991   \n",
       "1     1  -817.637102    10996       7031      201  -905.987957     7048  1684   \n",
       "2     2   175.715026     1546       2142       55    77.749844      869   356   \n",
       "3     3   639.827359     1200        876       22    12.267959      398   152   \n",
       "4     4  -433.452326    11294      17449      164  1246.716849     4678  1253   \n",
       "5     5  4411.431197     1947       2073       26   462.464016      491   309   \n",
       "6     6   -67.172031     1885       2360       33   148.163581      765   229   \n",
       "7     7  -859.056647     4803       4311       75  -498.229089     2766   836   \n",
       "8     8 -1271.458428     1810       1443        3     7.944807      249    12   \n",
       "9     9 -1160.165865     9292       9891      130  -273.565877     4115  1309   \n",
       "10   10     3.118862     1533       1393       30    68.247221      543   109   \n",
       "11   11   180.566497      339        530        2    38.789832       26     4   \n",
       "\n",
       "    contact         day  month  duration    campaign       pdays    previous  \\\n",
       "0      3345 -150.436648  30188   1276703 -314.662445  395.655307  204.977272   \n",
       "1      8541 -425.487172  58783   2558558  166.980293  372.811531 -317.661768   \n",
       "2       979  -18.641863   9124    381132   17.162418 -114.525523  -65.963284   \n",
       "3       833   29.203254   6038    304823   22.865684 -231.487599 -112.268487   \n",
       "4      4403  349.766488  49055   2402292  306.842853 -144.745817  360.031230   \n",
       "5      1383  -99.819010  11780    650586 -304.822249  -62.269345   57.370405   \n",
       "6       892   42.014971   8823    423420   45.479732  -85.953993  -19.679734   \n",
       "7      3084  -85.295710  24467   1077210  -61.005459   74.567050 -142.685191   \n",
       "8       383 -102.425076   5154    231364 -140.569535  157.792969  151.799215   \n",
       "9      4111  549.678599  37731   1921319  350.583347 -227.828193  -18.979060   \n",
       "10      724  -48.275071   7095    375972 -139.537200  -78.747187  -64.322459   \n",
       "11      268  -40.282761   1463     68432   50.682559  -55.269200  -32.618140   \n",
       "\n",
       "    poutcome  deposit  \n",
       "0      12898      631  \n",
       "1      25042      708  \n",
       "2       3869      123  \n",
       "3       3348      109  \n",
       "4      24069     1301  \n",
       "5       5762      516  \n",
       "6       4065      187  \n",
       "7      10691      369  \n",
       "8       2214      269  \n",
       "9      19557      840  \n",
       "10      3435      202  \n",
       "11       789       34  "
      ]
     },
     "execution_count": 19,
     "metadata": {},
     "output_type": "execute_result"
    }
   ],
   "source": [
    "df_scatter = pd.DataFrame(df_new.groupby(['job'], axis=0).sum())\n",
    "\n",
    "#reset the index to put in back in as a column in the df_scatter dataframe\n",
    "df_scatter.reset_index(inplace=True)\n",
    "\n",
    "df_scatter"
   ]
  },
  {
   "cell_type": "code",
   "execution_count": 20,
   "metadata": {},
   "outputs": [
    {
     "data": {
      "image/png": "[encoded data removed]",
      "text/plain": [
       "<Figure size 720x432 with 1 Axes>"
      ]
     },
     "metadata": {},
     "output_type": "display_data"
    }
   ],
   "source": [
    "# Plot datanya\n",
    "df_scatter.plot(kind='scatter', x='job', y='deposit', figsize=(10,6), color='darkblue')\n",
    "\n",
    "plt.title('Scatter plot job based deposit') # add a title to the area plot\n",
    "plt.ylabel('deposit') # add y-label\n",
    "plt.xlabel('job') # add x-label\n",
    "\n",
    "plt.show()"
   ]
  },
  {
   "cell_type": "code",
   "execution_count": 85,
   "metadata": {},
   "outputs": [
    {
     "data": {
      "image/png": "[encoded data removed]",
      "text/plain": [
       "<Figure size 432x288 with 1 Axes>"
      ]
     },
     "metadata": {},
     "output_type": "display_data"
    }
   ],
   "source": [
    "sns.countplot('job', hue='deposit', data=df_new)\n",
    "plt.show()"
   ]
  },
  {
   "cell_type": "markdown",
   "metadata": {},
   "source": [
    "**Kesimpulan:** dari hasil scatter plot job based deposit dapat dilihat bahwa paling banyak yaitu job deengan kode 4 (management) dengan jumlah deposit 1301, dan yang paling sedikit yaitu job dengan kode 11 (unknown) dengan jumlah deposit hanya 34\n",
    "\n",
    "## 3. Pemodelan\n",
    "disini saya akan melakukan pemilihan feature dan target serta melakukan splitting data"
   ]
  },
  {
   "cell_type": "code",
   "execution_count": 21,
   "metadata": {},
   "outputs": [],
   "source": [
    "# Memilih dan memisahkan feature dan Target\n",
    "\n",
    "# pilih feature\n",
    "X = df_new.drop('deposit', axis=1)"
   ]
  },
  {
   "cell_type": "code",
   "execution_count": 22,
   "metadata": {},
   "outputs": [],
   "source": [
    "# pilih target\n",
    "y = df_new['deposit']"
   ]
  },
  {
   "cell_type": "markdown",
   "metadata": {},
   "source": [
    "disini saya menggunakan deposit sebagai target, dan kolom selain deposit sebagai feature."
   ]
  },
  {
   "cell_type": "code",
   "execution_count": 23,
   "metadata": {},
   "outputs": [
    {
     "name": "stdout",
     "output_type": "stream",
     "text": [
      "Shape training feature: (36168, 16)\n",
      "Shape testing feature: (9043, 16)\n",
      "Shape training label: (36168,)\n",
      "Shape training label: (9043,)\n"
     ]
    }
   ],
   "source": [
    "# splitting data 80% training 20% test\n",
    "from sklearn.model_selection import train_test_split\n",
    "X_train, X_test, y_train, y_test = train_test_split(X , y, \n",
    "                                                    shuffle = True, \n",
    "                                                    test_size=0.2, \n",
    "                                                    random_state=1)\n",
    "\n",
    "\n",
    "print('Shape training feature:', X_train.shape)\n",
    "print('Shape testing feature:', X_test.shape)\n",
    "print('Shape training label:', y_train.shape)\n",
    "print('Shape training label:', y_test.shape)"
   ]
  },
  {
   "cell_type": "markdown",
   "metadata": {},
   "source": [
    "## 4. Logistic Regression\n",
    "implementasi logistic regression dengan scikit-learn"
   ]
  },
  {
   "cell_type": "code",
   "execution_count": 24,
   "metadata": {},
   "outputs": [
    {
     "name": "stderr",
     "output_type": "stream",
     "text": [
      "c:\\users\\acer\\appdata\\local\\programs\\python\\python37\\lib\\site-packages\\sklearn\\linear_model\\logistic.py:433: FutureWarning: Default solver will be changed to 'lbfgs' in 0.22. Specify a solver to silence this warning.\n",
      "  FutureWarning)\n"
     ]
    },
    {
     "data": {
      "text/plain": [
       "LogisticRegression(C=1.0, class_weight=None, dual=False, fit_intercept=True,\n",
       "          intercept_scaling=1, max_iter=100, multi_class='warn',\n",
       "          n_jobs=None, penalty='l2', random_state=None, solver='warn',\n",
       "          tol=0.0001, verbose=0, warm_start=False)"
      ]
     },
     "execution_count": 24,
     "metadata": {},
     "output_type": "execute_result"
    }
   ],
   "source": [
    "#(a)LOGISTIC REGRESSION\n",
    "from sklearn.linear_model import LogisticRegression\n",
    "\n",
    "model=LogisticRegression()\n",
    "model.fit(X_train,y_train)"
   ]
  },
  {
   "cell_type": "code",
   "execution_count": 25,
   "metadata": {},
   "outputs": [],
   "source": [
    "y_pred = model.predict(X_test)"
   ]
  },
  {
   "cell_type": "code",
   "execution_count": 26,
   "metadata": {},
   "outputs": [
    {
     "name": "stdout",
     "output_type": "stream",
     "text": [
      "0.8904124737365918\n",
      "[[7836  157]\n",
      " [ 834  216]]\n"
     ]
    }
   ],
   "source": [
    "from sklearn.metrics import accuracy_score\n",
    "from sklearn.metrics import confusion_matrix\n",
    "\n",
    "print(accuracy_score(y_test, y_pred))\n",
    "\n",
    "matrix=confusion_matrix(y_test, y_pred)\n",
    "print(matrix)"
   ]
  },
  {
   "cell_type": "code",
   "execution_count": 27,
   "metadata": {},
   "outputs": [
    {
     "name": "stdout",
     "output_type": "stream",
     "text": [
      "              precision    recall  f1-score   support\n",
      "\n",
      "           0       0.90      0.98      0.94      7993\n",
      "           1       0.58      0.21      0.30      1050\n",
      "\n",
      "   micro avg       0.89      0.89      0.89      9043\n",
      "   macro avg       0.74      0.59      0.62      9043\n",
      "weighted avg       0.87      0.89      0.87      9043\n",
      "\n"
     ]
    }
   ],
   "source": [
    "from sklearn.metrics import classification_report\n",
    "\n",
    "print(classification_report(y_test, y_pred))"
   ]
  },
  {
   "cell_type": "code",
   "execution_count": 28,
   "metadata": {},
   "outputs": [
    {
     "data": {
      "text/plain": [
       "Text(0.5, 1.0, 'Confusion Metrics for Logistic Regression')"
      ]
     },
     "execution_count": 28,
     "metadata": {},
     "output_type": "execute_result"
    },
    {
     "data": {
      "image/png": "[encoded data removed]",
      "text/plain": [
       "<Figure size 432x288 with 2 Axes>"
      ]
     },
     "metadata": {},
     "output_type": "display_data"
    }
   ],
   "source": [
    "import seaborn as sns\n",
    "\n",
    "sns.heatmap(confusion_matrix(y_test, y_pred), annot=True)\n",
    "plt.title('Confusion Metrics for Logistic Regression')"
   ]
  },
  {
   "cell_type": "code",
   "execution_count": 29,
   "metadata": {},
   "outputs": [
    {
     "name": "stdout",
     "output_type": "stream",
     "text": [
      "True Negatif (TN) : 7836 \n",
      "False Positif (FP) : 157 \n",
      "False Negatif (FN) : 834 \n",
      "True Positif (TP) : 216 \n"
     ]
    }
   ],
   "source": [
    "tn,fp, fn, tp = matrix.ravel()\n",
    "print(f'True Negatif (TN) : {tn} ')\n",
    "print(f'False Positif (FP) : {fp} ')\n",
    "print(f'False Negatif (FN) : {fn} ')\n",
    "print(f'True Positif (TP) : {tp} ')"
   ]
  },
  {
   "cell_type": "markdown",
   "metadata": {},
   "source": [
    "**Kesimpulan:** Dengan menggunakan pemodelan Logistic Regression didapatkan hasil akurasi prediksi yaitu 89% (0.8904124737365918) dengan jumlah nilai True Negatif (TN) 7836, False Positif (FP) 157, False Negatif (FN) 834, dan True Positif (TP) 216. Bisa dikatakan hasil akurasi cukup baik dengan nilai 89%\n",
    "\n",
    "## 5. K-Nearest Neighbors (KNN)\n",
    "Implementasi K-Nearest Neighbors (KNN) dengan scikit-learn"
   ]
  },
  {
   "cell_type": "code",
   "execution_count": 30,
   "metadata": {},
   "outputs": [
    {
     "data": {
      "text/plain": [
       "KNeighborsClassifier(algorithm='auto', leaf_size=30, metric='minkowski',\n",
       "           metric_params=None, n_jobs=None, n_neighbors=5, p=2,\n",
       "           weights='uniform')"
      ]
     },
     "execution_count": 30,
     "metadata": {},
     "output_type": "execute_result"
    }
   ],
   "source": [
    "# (b) K-NEAREST NEIGHBORS (KNN) ALGORITHM\n",
    "from sklearn.neighbors import KNeighborsClassifier\n",
    "\n",
    "knn = KNeighborsClassifier()\n",
    "knn.fit(X_train, y_train)"
   ]
  },
  {
   "cell_type": "code",
   "execution_count": 31,
   "metadata": {},
   "outputs": [],
   "source": [
    "y_pred1 = knn.predict(X_test)"
   ]
  },
  {
   "cell_type": "code",
   "execution_count": 32,
   "metadata": {},
   "outputs": [
    {
     "name": "stdout",
     "output_type": "stream",
     "text": [
      "Accuration: 0.8815658520402522\n",
      "confusion matrix \n",
      " [[7737  256]\n",
      " [ 815  235]]\n"
     ]
    }
   ],
   "source": [
    "print('Accuration:', accuracy_score(y_test, y_pred1))\n",
    "\n",
    "matrix=confusion_matrix(y_test, y_pred1)\n",
    "print('confusion matrix \\n', matrix)"
   ]
  },
  {
   "cell_type": "code",
   "execution_count": 33,
   "metadata": {},
   "outputs": [
    {
     "name": "stdout",
     "output_type": "stream",
     "text": [
      "              precision    recall  f1-score   support\n",
      "\n",
      "           0       0.90      0.97      0.94      7993\n",
      "           1       0.48      0.22      0.30      1050\n",
      "\n",
      "   micro avg       0.88      0.88      0.88      9043\n",
      "   macro avg       0.69      0.60      0.62      9043\n",
      "weighted avg       0.86      0.88      0.86      9043\n",
      "\n"
     ]
    }
   ],
   "source": [
    "print(classification_report(y_test, y_pred1))"
   ]
  },
  {
   "cell_type": "code",
   "execution_count": 34,
   "metadata": {},
   "outputs": [
    {
     "data": {
      "text/plain": [
       "Text(0.5, 1.0, 'Confusion Metrics for KNN')"
      ]
     },
     "execution_count": 34,
     "metadata": {},
     "output_type": "execute_result"
    },
    {
     "data": {
      "image/png": "[encoded data removed]",
      "text/plain": [
       "<Figure size 432x288 with 2 Axes>"
      ]
     },
     "metadata": {},
     "output_type": "display_data"
    }
   ],
   "source": [
    "sns.heatmap(confusion_matrix(y_test, y_pred1), annot=True)\n",
    "plt.title('Confusion Metrics for KNN')"
   ]
  },
  {
   "cell_type": "code",
   "execution_count": 35,
   "metadata": {},
   "outputs": [
    {
     "name": "stdout",
     "output_type": "stream",
     "text": [
      "True Negatif (TN) : 7737 \n",
      "False Positif (FP) : 256 \n",
      "False Negatif (FN) : 815 \n",
      "True Positif (TP) : 235 \n"
     ]
    }
   ],
   "source": [
    "tn,fp, fn, tp = matrix.ravel()\n",
    "print(f'True Negatif (TN) : {tn} ')\n",
    "print(f'False Positif (FP) : {fp} ')\n",
    "print(f'False Negatif (FN) : {fn} ')\n",
    "print(f'True Positif (TP) : {tp} ')"
   ]
  },
  {
   "cell_type": "markdown",
   "metadata": {},
   "source": [
    "**Kesimpulan:** Dengan menggunakan pemodelan K-Nearest Neighbors (KNN) didapatkan hasil akurasi prediksi yaitu 88% (0.8815658520402522) dengan jumlah nilai True Negatif (TN) 7737, False Positif (FP) 256, False Negatif (FN) 815, dan True Positif (TP) 235. Bisa dikatakan hasil akurasi cukup baik dengan nilai 88%\n",
    "\n",
    "## 6. Support Vector Machine (SVM)\n",
    "Implementasi Support Vector Machine (SVM) dengan scikit-learn"
   ]
  },
  {
   "cell_type": "code",
   "execution_count": 36,
   "metadata": {},
   "outputs": [
    {
     "name": "stderr",
     "output_type": "stream",
     "text": [
      "c:\\users\\acer\\appdata\\local\\programs\\python\\python37\\lib\\site-packages\\sklearn\\svm\\base.py:196: FutureWarning: The default value of gamma will change from 'auto' to 'scale' in version 0.22 to account better for unscaled features. Set gamma explicitly to 'auto' or 'scale' to avoid this warning.\n",
      "  \"avoid this warning.\", FutureWarning)\n"
     ]
    },
    {
     "data": {
      "text/plain": [
       "SVC(C=1.0, cache_size=200, class_weight=None, coef0=0.0,\n",
       "  decision_function_shape='ovr', degree=3, gamma='auto_deprecated',\n",
       "  kernel='rbf', max_iter=-1, probability=False, random_state=None,\n",
       "  shrinking=True, tol=0.001, verbose=False)"
      ]
     },
     "execution_count": 36,
     "metadata": {},
     "output_type": "execute_result"
    }
   ],
   "source": [
    "# (c) SUPPORT VECTOR MACHINE (SVM) ALGORITHM\n",
    "from sklearn import svm\n",
    "\n",
    "svm = svm.SVC()\n",
    "svm.fit(X_train, y_train)"
   ]
  },
  {
   "cell_type": "code",
   "execution_count": 37,
   "metadata": {},
   "outputs": [],
   "source": [
    "y_pred2 = svm.predict(X_test)"
   ]
  },
  {
   "cell_type": "code",
   "execution_count": 38,
   "metadata": {},
   "outputs": [
    {
     "name": "stdout",
     "output_type": "stream",
     "text": [
      "Accuration: 0.883777507464337\n",
      "confusion matrix \n",
      " [[7882  111]\n",
      " [ 940  110]]\n"
     ]
    }
   ],
   "source": [
    "print('Accuration:', accuracy_score(y_test, y_pred2))\n",
    "\n",
    "matrix=confusion_matrix(y_test, y_pred2)\n",
    "print('confusion matrix \\n', matrix)"
   ]
  },
  {
   "cell_type": "code",
   "execution_count": 39,
   "metadata": {},
   "outputs": [
    {
     "name": "stdout",
     "output_type": "stream",
     "text": [
      "              precision    recall  f1-score   support\n",
      "\n",
      "           0       0.89      0.99      0.94      7993\n",
      "           1       0.50      0.10      0.17      1050\n",
      "\n",
      "   micro avg       0.88      0.88      0.88      9043\n",
      "   macro avg       0.70      0.55      0.56      9043\n",
      "weighted avg       0.85      0.88      0.85      9043\n",
      "\n"
     ]
    }
   ],
   "source": [
    "print(classification_report(y_test, y_pred2))"
   ]
  },
  {
   "cell_type": "code",
   "execution_count": 40,
   "metadata": {},
   "outputs": [
    {
     "data": {
      "text/plain": [
       "Text(0.5, 1.0, 'Confusion Metrics for SVM')"
      ]
     },
     "execution_count": 40,
     "metadata": {},
     "output_type": "execute_result"
    },
    {
     "data": {
      "image/png": "[encoded data removed]",
      "text/plain": [
       "<Figure size 432x288 with 2 Axes>"
      ]
     },
     "metadata": {},
     "output_type": "display_data"
    }
   ],
   "source": [
    "sns.heatmap(confusion_matrix(y_test, y_pred2), annot=True)\n",
    "plt.title('Confusion Metrics for SVM')"
   ]
  },
  {
   "cell_type": "code",
   "execution_count": 41,
   "metadata": {},
   "outputs": [
    {
     "name": "stdout",
     "output_type": "stream",
     "text": [
      "True Negatif (TN) : 7882 \n",
      "False Positif (FP) : 111 \n",
      "False Negatif (FN) : 940 \n",
      "True Positif (TP) : 110 \n"
     ]
    }
   ],
   "source": [
    "tn,fp, fn, tp = matrix.ravel()\n",
    "print(f'True Negatif (TN) : {tn} ')\n",
    "print(f'False Positif (FP) : {fp} ')\n",
    "print(f'False Negatif (FN) : {fn} ')\n",
    "print(f'True Positif (TP) : {tp} ')"
   ]
  },
  {
   "cell_type": "markdown",
   "metadata": {},
   "source": [
    "**Kesimpulan:** Dengan menggunakan pemodelan Support Vector Machine (SVM) didapatkan hasil akurasi prediksi yaitu 88% (0.883777507464337) dengan jumlah nilai True Negatif (TN) 7882, False Positif (FP) 111, False Negatif (FN) 940, dan True Positif (TP) 110. Bisa dikatakan hasil akurasi cukup baik dengan nilai 88%\n",
    "\n",
    "## 7. Decision Tree\n",
    "Implementasi Decision Tree dengan scikit-learn"
   ]
  },
  {
   "cell_type": "code",
   "execution_count": 70,
   "metadata": {},
   "outputs": [
    {
     "data": {
      "text/plain": [
       "DecisionTreeClassifier(class_weight=None, criterion='gini', max_depth=None,\n",
       "            max_features=None, max_leaf_nodes=None,\n",
       "            min_impurity_decrease=0.0, min_impurity_split=None,\n",
       "            min_samples_leaf=1, min_samples_split=2,\n",
       "            min_weight_fraction_leaf=0.0, presort=False, random_state=None,\n",
       "            splitter='best')"
      ]
     },
     "execution_count": 70,
     "metadata": {},
     "output_type": "execute_result"
    }
   ],
   "source": [
    "# (d) DECISION TREE ALGORITHM\n",
    "from sklearn import tree\n",
    "\n",
    "dt = tree.DecisionTreeClassifier()\n",
    "dt.fit(X_train, y_train)"
   ]
  },
  {
   "cell_type": "code",
   "execution_count": 71,
   "metadata": {},
   "outputs": [],
   "source": [
    "y_pred3 = dt.predict(X_test)"
   ]
  },
  {
   "cell_type": "code",
   "execution_count": 72,
   "metadata": {},
   "outputs": [
    {
     "name": "stdout",
     "output_type": "stream",
     "text": [
      "Accuration: 0.872055733716687\n",
      "confusion matrix \n",
      " [[7378  615]\n",
      " [ 542  508]]\n"
     ]
    }
   ],
   "source": [
    "print('Accuration:', accuracy_score(y_test, y_pred3))\n",
    "\n",
    "matrix=confusion_matrix(y_test, y_pred3)\n",
    "print('confusion matrix \\n', matrix)"
   ]
  },
  {
   "cell_type": "code",
   "execution_count": 73,
   "metadata": {},
   "outputs": [
    {
     "name": "stdout",
     "output_type": "stream",
     "text": [
      "              precision    recall  f1-score   support\n",
      "\n",
      "           0       0.93      0.92      0.93      7993\n",
      "           1       0.45      0.48      0.47      1050\n",
      "\n",
      "   micro avg       0.87      0.87      0.87      9043\n",
      "   macro avg       0.69      0.70      0.70      9043\n",
      "weighted avg       0.88      0.87      0.87      9043\n",
      "\n"
     ]
    }
   ],
   "source": [
    "print(classification_report(y_test, y_pred3))"
   ]
  },
  {
   "cell_type": "code",
   "execution_count": 74,
   "metadata": {},
   "outputs": [
    {
     "data": {
      "text/plain": [
       "Text(0.5, 1.0, 'Confusion Metrics for Decision Tree')"
      ]
     },
     "execution_count": 74,
     "metadata": {},
     "output_type": "execute_result"
    },
    {
     "data": {
      "image/png": "[encoded data removed]",
      "text/plain": [
       "<Figure size 432x288 with 2 Axes>"
      ]
     },
     "metadata": {},
     "output_type": "display_data"
    }
   ],
   "source": [
    "sns.heatmap(confusion_matrix(y_test, y_pred3), annot=True)\n",
    "plt.title('Confusion Metrics for Decision Tree')"
   ]
  },
  {
   "cell_type": "code",
   "execution_count": 75,
   "metadata": {},
   "outputs": [
    {
     "name": "stdout",
     "output_type": "stream",
     "text": [
      "True Negatif (TN) : 7378 \n",
      "False Positif (FP) : 615 \n",
      "False Negatif (FN) : 542 \n",
      "True Positif (TP) : 508 \n"
     ]
    }
   ],
   "source": [
    "tn,fp, fn, tp = matrix.ravel()\n",
    "print(f'True Negatif (TN) : {tn} ')\n",
    "print(f'False Positif (FP) : {fp} ')\n",
    "print(f'False Negatif (FN) : {fn} ')\n",
    "print(f'True Positif (TP) : {tp} ')"
   ]
  },
  {
   "cell_type": "markdown",
   "metadata": {},
   "source": [
    "**Kesimpulan:** Dengan menggunakan pemodelan Decision Tree didapatkan hasil akurasi prediksi yaitu 87% (0.872055733716687) dengan jumlah nilai True Negatif (TN) 7378, False Positif (FP) 615, False Negatif (FN) 542, dan True Positif (TP) 508. Bisa dikatakan hasil akurasi cukup baik dengan nilai 87%\n",
    "\n",
    "## 8. Random Forest\n",
    "Implementasi Random Forest dengan scikit-learn"
   ]
  },
  {
   "cell_type": "code",
   "execution_count": 76,
   "metadata": {},
   "outputs": [
    {
     "name": "stderr",
     "output_type": "stream",
     "text": [
      "c:\\users\\acer\\appdata\\local\\programs\\python\\python37\\lib\\site-packages\\sklearn\\ensemble\\forest.py:246: FutureWarning: The default value of n_estimators will change from 10 in version 0.20 to 100 in 0.22.\n",
      "  \"10 in version 0.20 to 100 in 0.22.\", FutureWarning)\n"
     ]
    },
    {
     "data": {
      "text/plain": [
       "RandomForestClassifier(bootstrap=True, class_weight=None, criterion='gini',\n",
       "            max_depth=None, max_features='auto', max_leaf_nodes=None,\n",
       "            min_impurity_decrease=0.0, min_impurity_split=None,\n",
       "            min_samples_leaf=1, min_samples_split=2,\n",
       "            min_weight_fraction_leaf=0.0, n_estimators=10, n_jobs=None,\n",
       "            oob_score=False, random_state=None, verbose=0,\n",
       "            warm_start=False)"
      ]
     },
     "execution_count": 76,
     "metadata": {},
     "output_type": "execute_result"
    }
   ],
   "source": [
    "# (e) RANDOM FOREST ALGORITHM\n",
    "from sklearn.ensemble import RandomForestClassifier\n",
    "\n",
    "rf = RandomForestClassifier()\n",
    "rf.fit(X_train, y_train)"
   ]
  },
  {
   "cell_type": "code",
   "execution_count": 77,
   "metadata": {},
   "outputs": [],
   "source": [
    "y_pred4 = rf.predict(X_test)"
   ]
  },
  {
   "cell_type": "code",
   "execution_count": 78,
   "metadata": {},
   "outputs": [
    {
     "name": "stdout",
     "output_type": "stream",
     "text": [
      "Accuration: 0.9029083268826716\n",
      "confusion matrix \n",
      " [[7770  223]\n",
      " [ 655  395]]\n"
     ]
    }
   ],
   "source": [
    "print('Accuration:', accuracy_score(y_test, y_pred4))\n",
    "\n",
    "matrix=confusion_matrix(y_test, y_pred4)\n",
    "print('confusion matrix \\n', matrix)"
   ]
  },
  {
   "cell_type": "code",
   "execution_count": 79,
   "metadata": {},
   "outputs": [
    {
     "name": "stdout",
     "output_type": "stream",
     "text": [
      "              precision    recall  f1-score   support\n",
      "\n",
      "           0       0.92      0.97      0.95      7993\n",
      "           1       0.64      0.38      0.47      1050\n",
      "\n",
      "   micro avg       0.90      0.90      0.90      9043\n",
      "   macro avg       0.78      0.67      0.71      9043\n",
      "weighted avg       0.89      0.90      0.89      9043\n",
      "\n"
     ]
    }
   ],
   "source": [
    "print(classification_report(y_test, y_pred4))"
   ]
  },
  {
   "cell_type": "code",
   "execution_count": 80,
   "metadata": {},
   "outputs": [
    {
     "data": {
      "text/plain": [
       "Text(0.5, 1.0, 'Confusion Metrics for Random Forest')"
      ]
     },
     "execution_count": 80,
     "metadata": {},
     "output_type": "execute_result"
    },
    {
     "data": {
      "image/png": "[encoded data removed]",
      "text/plain": [
       "<Figure size 432x288 with 2 Axes>"
      ]
     },
     "metadata": {},
     "output_type": "display_data"
    }
   ],
   "source": [
    "sns.heatmap(confusion_matrix(y_test, y_pred4), annot=True)\n",
    "plt.title('Confusion Metrics for Random Forest')"
   ]
  },
  {
   "cell_type": "code",
   "execution_count": 81,
   "metadata": {},
   "outputs": [
    {
     "name": "stdout",
     "output_type": "stream",
     "text": [
      "True Negatif (TN) : 7770 \n",
      "False Positif (FP) : 223 \n",
      "False Negatif (FN) : 655 \n",
      "True Positif (TP) : 395 \n"
     ]
    }
   ],
   "source": [
    "tn,fp, fn, tp = matrix.ravel()\n",
    "print(f'True Negatif (TN) : {tn} ')\n",
    "print(f'False Positif (FP) : {fp} ')\n",
    "print(f'False Negatif (FN) : {fn} ')\n",
    "print(f'True Positif (TP) : {tp} ')"
   ]
  },
  {
   "cell_type": "markdown",
   "metadata": {},
   "source": [
    "**Kesimpulan:** Dengan menggunakan pemodelan Random Forest didapatkan hasil akurasi prediksi yaitu 90% (0.9029083268826716) dengan jumlah nilai True Negatif (TN) 7770, False Positif (FP) 223, False Negatif (FN) 655, dan True Positif (TP) 395. Bisa dikatakan hasil akurasi baik dengan nilai 90% hampir sempurna.\n",
    "\n",
    "## 9. Naive Bayes\n",
    "Implementasi Naive Bayes dengan scikit-learn"
   ]
  },
  {
   "cell_type": "code",
   "execution_count": 55,
   "metadata": {},
   "outputs": [
    {
     "data": {
      "text/plain": [
       "GaussianNB(priors=None, var_smoothing=1e-09)"
      ]
     },
     "execution_count": 55,
     "metadata": {},
     "output_type": "execute_result"
    }
   ],
   "source": [
    "# (f) NAIVE BAYES ALGORITHM\n",
    "from sklearn.naive_bayes import GaussianNB\n",
    "\n",
    "nb = GaussianNB()\n",
    "nb.fit(X_train, y_train)"
   ]
  },
  {
   "cell_type": "code",
   "execution_count": 56,
   "metadata": {},
   "outputs": [],
   "source": [
    "y_pred5 = nb.predict(X_test)"
   ]
  },
  {
   "cell_type": "code",
   "execution_count": 57,
   "metadata": {},
   "outputs": [
    {
     "name": "stdout",
     "output_type": "stream",
     "text": [
      "Accuration: 0.8333517637952007\n",
      "confusion matrix \n",
      " [[7025  968]\n",
      " [ 539  511]]\n"
     ]
    }
   ],
   "source": [
    "print('Accuration:', accuracy_score(y_test, y_pred5))\n",
    "\n",
    "matrix=confusion_matrix(y_test, y_pred5)\n",
    "print('confusion matrix \\n', matrix)"
   ]
  },
  {
   "cell_type": "code",
   "execution_count": 58,
   "metadata": {},
   "outputs": [
    {
     "name": "stdout",
     "output_type": "stream",
     "text": [
      "              precision    recall  f1-score   support\n",
      "\n",
      "           0       0.93      0.88      0.90      7993\n",
      "           1       0.35      0.49      0.40      1050\n",
      "\n",
      "   micro avg       0.83      0.83      0.83      9043\n",
      "   macro avg       0.64      0.68      0.65      9043\n",
      "weighted avg       0.86      0.83      0.85      9043\n",
      "\n"
     ]
    }
   ],
   "source": [
    "print(classification_report(y_test, y_pred5))"
   ]
  },
  {
   "cell_type": "code",
   "execution_count": 59,
   "metadata": {},
   "outputs": [
    {
     "data": {
      "text/plain": [
       "Text(0.5, 1.0, 'Confusion Metrics for Naive Bayes')"
      ]
     },
     "execution_count": 59,
     "metadata": {},
     "output_type": "execute_result"
    },
    {
     "data": {
      "image/png": "[encoded data removed]",
      "text/plain": [
       "<Figure size 432x288 with 2 Axes>"
      ]
     },
     "metadata": {},
     "output_type": "display_data"
    }
   ],
   "source": [
    "sns.heatmap(confusion_matrix(y_test, y_pred5), annot=True)\n",
    "plt.title('Confusion Metrics for Naive Bayes')"
   ]
  },
  {
   "cell_type": "code",
   "execution_count": 60,
   "metadata": {},
   "outputs": [
    {
     "name": "stdout",
     "output_type": "stream",
     "text": [
      "True Negatif (TN) : 7025 \n",
      "False Positif (FP) : 968 \n",
      "False Negatif (FN) : 539 \n",
      "True Positif (TP) : 511 \n"
     ]
    }
   ],
   "source": [
    "tn,fp, fn, tp = matrix.ravel()\n",
    "print(f'True Negatif (TN) : {tn} ')\n",
    "print(f'False Positif (FP) : {fp} ')\n",
    "print(f'False Negatif (FN) : {fn} ')\n",
    "print(f'True Positif (TP) : {tp} ')"
   ]
  },
  {
   "cell_type": "markdown",
   "metadata": {},
   "source": [
    "**Kesimpulan:** Dengan menggunakan pemodelan Naive Bayes didapatkan hasil akurasi prediksi yaitu 83% (0.8333517637952007) dengan jumlah nilai True Negatif (TN) 7025, False Positif (FP) 968, False Negatif (FN) 539, dan True Positif (TP) 511. Bisa dikatakan hasil akurasi cukup baik dengan nilai 83% tetapi jika dibandingkan dengan model lain cukup rendah.\n",
    "\n",
    "## 10. Overall Analysis (Algorithm Analysys)"
   ]
  },
  {
   "cell_type": "code",
   "execution_count": 82,
   "metadata": {},
   "outputs": [
    {
     "name": "stdout",
     "output_type": "stream",
     "text": [
      "Logistic Regression: 0.8904124737365918\n",
      "Decision Tree: 0.872055733716687\n",
      "Random Forest: 0.9029083268826716\n",
      "SVM: 0.883777507464337\n",
      "Naive Bayes: 0.8333517637952007\n",
      "KNN: 0.8815658520402522\n"
     ]
    }
   ],
   "source": [
    "print(\"Logistic Regression:\", accuracy_score(y_test, y_pred))\n",
    "print(\"Decision Tree:\", accuracy_score(y_test, y_pred3))\n",
    "print(\"Random Forest:\", accuracy_score(y_test, y_pred4))\n",
    "print(\"SVM:\", accuracy_score(y_test, y_pred2))\n",
    "print(\"Naive Bayes:\", accuracy_score(y_test, y_pred5))\n",
    "print(\"KNN:\", accuracy_score(y_test, y_pred1))"
   ]
  },
  {
   "cell_type": "markdown",
   "metadata": {},
   "source": [
    "Berdasarkan analisis beberapa pemodelan yang saya lakukan saya menyimpulkan bahwa pemodelan yang menghasilkan nilai prediksi dan akurasi yang paling bagus yaitu pemodelan dengan menggunakan metode Random Forest. Nilai akurasi yang didapatkan yaitu 89,7% atau dibulatkan menjadi 90% (0.8976003538648678). Nilai ini cukup bagus menurut saya karena nilai akurasi sudah cukup mendekati sempurna.\n",
    "\n",
    "Sedangkan untuk hasil pemodelan dengan hasil nilai prediksi atau nilai akurasi paling rendah yaitu pemodelan dengan menggunakan Naive Bayes. Nilai yang didapatkan yaitu 83% (0.8333517637952007). Jika dibandingkan ini cukup jauh perbandingannya dengan model yang lain dimana model lain hasil akurasi berada di sekitar 87% - 90%, tetapi pemodelan Naive Bayes hanya 83%.\n",
    "\n",
    "Jadi untuk dataset direct marketing campaigns of a portuguese banking institution. Untuk memprediksi apakah client akan subscribe (yes/no) sebuah term deposit (variabel y) maka pemodelan yang cocok dilakukan adalah dengan menggunakan **pemodelan Random Forest.**"
   ]
  },
  {
   "cell_type": "code",
   "execution_count": 83,
   "metadata": {},
   "outputs": [],
   "source": [
    "# write the results in csv file for Random Forest\n",
    "\n",
    "predictions = pd.DataFrame(y_pred4, columns=[\"predictions\"]).to_csv(\"H8_RF_Deposit_Predictions.csv\")"
   ]
  },
  {
   "cell_type": "code",
   "execution_count": null,
   "metadata": {},
   "outputs": [],
   "source": []
  }
 ],
 "metadata": {
  "kernelspec": {
   "display_name": "Python 3",
   "language": "python",
   "name": "python3"
  },
  "language_info": {
   "codemirror_mode": {
    "name": "ipython",
    "version": 3
   },
   "file_extension": ".py",
   "mimetype": "text/x-python",
   "name": "python",
   "nbconvert_exporter": "python",
   "pygments_lexer": "ipython3",
   "version": "3.7.6"
  }
 },
 "nbformat": 4,
 "nbformat_minor": 4
}
