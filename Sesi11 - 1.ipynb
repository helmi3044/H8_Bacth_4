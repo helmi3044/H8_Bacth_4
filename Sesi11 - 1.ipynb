{
 "cells": [
  {
   "cell_type": "markdown",
   "metadata": {},
   "source": [
    "Nama : Helmi Saifullah Mansur\n",
    "\n",
    "Program : Python for Data Science\n",
    "\n",
    "Kode Peserta : PYTN-KS0-010\n",
    "# Introduction to Machine Leearning\n",
    "## What is Artifical Intellegence?\n",
    "yaitu cara membuat komputer menjadi intelligence scr artifically. \"The science & engineering of making intelligence machines, especially intelligent computer programs\"\n",
    "## Need for Intellegence Machines?\n",
    "alasan utamanya yaitu utk mengotomatiskan tugas\" yg menurut orang berlebihan.\n",
    "## Machine Learning\n",
    "yaitu penerapan dr AI yg emberikan kemampuan kpd komputer utk belajar & berkembang tanpa hrs diprogram scr explisit. dibutuhkan utk menyelesaikan pekerjaan yg terlalu rumit bagi manusia utk dicoding scr lansung.\n",
    "### Terminologi\n",
    "- dataset: a set of data examples, that contain features important to solving the problem\n",
    "- features: important pieces of data that help us understand problem\n",
    "- model: the representation (internal model) of a phenomenon that a mchine learning algorithm has learn it.\n",
    "### Process\n",
    "- Data collection : collect the data that the algorithm will learn from\n",
    "- Data Preparation : format & enggineer the data into the optional format, extracing important features & performing dimensionality reduction\n",
    "- Training (fitting stage): it is where the ML algorithm actually learns by showing it the  data that has been collected & prepared\n",
    "- Evaluation: test the model to see how well it performs\n",
    "- Tuning: Fine tune the model to maximise its performance (Sempurnakan model untuk memaksimalkan kinerjanya)\n",
    "### ML Approaches\n",
    "No Free Lunch Theorem menyatakan bahwa tdk ada algoritma tunggal yg akan bekrja dgn baik utk semua tugas.\n",
    "## Supervised Learning\n",
    "yaitu suatu teknik pembelajaran yg didalam keseluruhan proses pembelajarannya, dibimbing / di-supervisi.Tujuannya untuk memprediksi hasil yg diberikan serangkaian training samples bersama dgn training labels, yg juga dikenal dgn classifying data point. permasalahan supervised learning dpt dikelompokkan menjadi regression problem dan classification problems. keluarannya dari model ini dpt brupa category dr finite set misalnya [rendah, sedang, tinggi] yg diknal sbg classification atau bisa berupa real-world scalar (keluran berupa angka) yg dikenal sbg regression.\n",
    "## Unsupervised Learning\n",
    "disini tdk memiliki label utk sampel pelatihan. goalnya yaitu utk memodelkan struktur dasar / distribusi dlm data dgn tujuan utk mempelajari data lbh jauh lagi, dgn kata lain menyimpulkan fungsi yg mendeskripsikan / menjelaskan data. disini juga tdk ada jawaban yg 'dibenarkan scr terarah' dan tidak ada 'guru'. Pemasalahan model ini dpt dikelompokkan menjadi clustering problems, association problems, dan dimensionality reduction.\n",
    "\n",
    "contoh real yaitu menyortir koin warna yg berbeda menjadi tumpukan terpisah. Utk menemukan struktur yg menarik pd data yg tdk berlabel, kita menggunakan density estimation. bentuk yg pling umum adalah clustering. diantaranya terdapat juga dimensionality reduction, latent variable models, dan anomaly detection. teknik ini lbh kompleks melibatkan jaringan neural seperti auto-encoder dan deep belief networks dll\n",
    "## Reinforcement Learning\n",
    "yaitu jenis ML yg memiliki agent(like robot) yg belajar bagaimana berperilaku di lingkugan dgn tindakan & mengukur hasilnya. perilaku reward-motivated adalah kunci dlm reinforcement learning. contohnya adalah game, robotics, traffic lights control system dll\n",
    "## Deep Learning\n",
    "yaitu subkategori ML. Neural Network akan selalu memiliki:\n",
    "- input layer: it can be pixels of an image or a time series data\n",
    "- Hidden layer: Commonly known as weights which are learned while the neural network is trained\n",
    "- output layer: final layer mainly gives you a prediction of the input u fed into your network\n",
    "jadi neural network adalah approximation function dmn aringan mencoba mempelajari parameter (bobot)di hidden layers yg bila dikalikan dgn input akan memberi kita predicted output mendekati output yg diinginkan\n",
    "## Applications of ML and DL\n",
    "- medical : for cancer cell detection, brain MRI image restoration, gene printing, etc\n",
    "- Document : super-solving historical document images, segmentating text in document images\n",
    "- Banks : stock prediction, finncial decisions\n",
    "- Natural Language Processing: recomendation system: Netflix uses recomendation system to suggest movies to users based on their interest, sentiment analysis, photo tagging\n",
    "- Information Rtrieval: search engines, both text searvh, & image search like the one used by google, amazon, facebook, linkedin, etc"
   ]
  },
  {
   "cell_type": "code",
   "execution_count": null,
   "metadata": {},
   "outputs": [],
   "source": []
  }
 ],
 "metadata": {
  "kernelspec": {
   "display_name": "Python 3",
   "language": "python",
   "name": "python3"
  },
  "language_info": {
   "codemirror_mode": {
    "name": "ipython",
    "version": 3
   },
   "file_extension": ".py",
   "mimetype": "text/x-python",
   "name": "python",
   "nbconvert_exporter": "python",
   "pygments_lexer": "ipython3",
   "version": "3.7.6"
  }
 },
 "nbformat": 4,
 "nbformat_minor": 4
}
